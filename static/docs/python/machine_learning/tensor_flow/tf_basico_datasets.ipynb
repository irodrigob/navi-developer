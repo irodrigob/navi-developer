{
 "metadata": {
  "language_info": {
   "codemirror_mode": {
    "name": "ipython",
    "version": 3
   },
   "file_extension": ".py",
   "mimetype": "text/x-python",
   "name": "python",
   "nbconvert_exporter": "python",
   "pygments_lexer": "ipython3",
   "version": "3.7.7-final"
  },
  "orig_nbformat": 2,
  "kernelspec": {
   "name": "python_defaultSpec_1595776496818",
   "display_name": "Python 3.7.7 64-bit ('test': conda)"
  }
 },
 "nbformat": 4,
 "nbformat_minor": 2,
 "cells": [
  {
   "cell_type": "code",
   "execution_count": 1,
   "metadata": {},
   "outputs": [],
   "source": [
    "# Libreria tensor flowe\n",
    "import tensorflow as tf\n",
    "# Daset de datos con números escritos a manorom \n",
    "from tensorflow.examples.tutorials.mnist import input_data\n",
    "import tensorflow_datasets as tfds\n",
    "# API de tensorfow para construir y entrenar modelos de alto nivel\n",
    "from tensorflow import keras"
   ]
  },
  {
   "cell_type": "code",
   "execution_count": 2,
   "metadata": {},
   "outputs": [],
   "source": [
    "# Creamos una set de datos que es un array de seis elementos\n",
    "dataset = tf.data.Dataset.from_tensor_slices([8, 3, 0, 8, 2, 1])"
   ]
  },
  {
   "cell_type": "code",
   "execution_count": 3,
   "metadata": {
    "tags": []
   },
   "outputs": [
    {
     "output_type": "stream",
     "name": "stdout",
     "text": "8\n3\n0\n8\n2\n1\n"
    }
   ],
   "source": [
    "# Para listar los ejemplos del dataset hay que \n",
    "# recorrelos con un FOR.\n",
    "# Cada elemento del dataset es de tipo numpy. Por eso hay que usar\n",
    "# \"numpy\" para obtener el valor.\n",
    "for elem in dataset: \n",
    "  print(elem.numpy())"
   ]
  },
  {
   "cell_type": "code",
   "execution_count": 4,
   "metadata": {
    "tags": []
   },
   "outputs": [],
   "source": [
    "# Ahora vamos crear un dataset de tipo matriz. \n",
    "# Que tendrá 4 filas y 10 columnas\n",
    "dataset1 = tf.data.Dataset.from_tensor_slices(tf.random.uniform([4, 10]))"
   ]
  },
  {
   "cell_type": "code",
   "execution_count": 5,
   "metadata": {
    "tags": []
   },
   "outputs": [
    {
     "output_type": "stream",
     "name": "stdout",
     "text": "Fila:  [0.58600104 0.80292606 0.13899899 0.6027132  0.2812158  0.06768107\n 0.01700175 0.4155041  0.42036211 0.94815934]\nFila:  [0.09541941 0.7888255  0.5253123  0.960852   0.962497   0.5518899\n 0.16105258 0.98514235 0.82917464 0.5447879 ]\nFila:  [0.30786347 0.2631991  0.83314383 0.4485308  0.992118   0.17097425\n 0.22812164 0.20294225 0.95297885 0.30839372]\nFila:  [0.7794962  0.05844533 0.678041   0.50282586 0.60348916 0.94892263\n 0.3606732  0.57894313 0.08367121 0.97359645]\n"
    }
   ],
   "source": [
    "# Para ver los elementos:\n",
    "for elem in dataset1: \n",
    "  print(\"Fila: \",elem.numpy())"
   ]
  },
  {
   "cell_type": "code",
   "execution_count": 13,
   "metadata": {},
   "outputs": [],
   "source": [
    "# El siguiente ejemplo es lo más parecido al dataset de minst. \n",
    "# Ya que tiene dos niveles uno como un array de 4 posiciones y otro una matriz de 4 filas y 100 posiciones\n",
    "dataset2 = tf.data.Dataset.from_tensor_slices(\n",
    "   (tf.random.uniform([4]),\n",
    "    tf.random.uniform([4, 100], maxval=100, dtype=tf.int32)))"
   ]
  },
  {
   "cell_type": "code",
   "execution_count": null,
   "metadata": {
    "tags": []
   },
   "outputs": [],
   "source": [
    "# Se recorre el dataset creado, como tiene dos elementos en el FOR\n",
    "# se recupera ambos valores.\n",
    "for elem1, elem2 in dataset2: \n",
    "  print(elem2.numpy())"
   ]
  },
  {
   "cell_type": "code",
   "execution_count": null,
   "metadata": {},
   "outputs": [],
   "source": []
  }
 ]
}