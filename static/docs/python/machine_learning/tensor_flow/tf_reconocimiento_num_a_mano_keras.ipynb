{
 "metadata": {
  "language_info": {
   "codemirror_mode": {
    "name": "ipython",
    "version": 3
   },
   "file_extension": ".py",
   "mimetype": "text/x-python",
   "name": "python",
   "nbconvert_exporter": "python",
   "pygments_lexer": "ipython3",
   "version": "3.7.7-final"
  },
  "orig_nbformat": 2,
  "kernelspec": {
   "name": "python_defaultSpec_1596121380424",
   "display_name": "Python 3.7.7 64-bit ('test': conda)"
  }
 },
 "nbformat": 4,
 "nbformat_minor": 2,
 "cells": [
  {
   "cell_type": "code",
   "execution_count": 15,
   "metadata": {
    "tags": []
   },
   "outputs": [],
   "source": [
    "# Libreria tensor flow\n",
    "import tensorflow as tf\n",
    "# Daset de datos con números escritos a manorom \n",
    "from tensorflow.examples.tutorials.mnist import input_data\n",
    "# API de tensorfow para construir y entrenar modelos de alto nivel\n",
    "from tensorflow import keras\n",
    "from keras.utils.np_utils import to_categorical\n",
    "# Librería para representación gráfica\n",
    "import matplotlib.pyplot as plt\n",
    "# Librería para tratar arrays\n",
    "import numpy as np\n"
   ]
  },
  {
   "cell_type": "code",
   "execution_count": 19,
   "metadata": {},
   "outputs": [],
   "source": [
    "# Se recuperan los datos y el metadata de los datos\n",
    "#mnist_train2, mnist_info = tfds.load('mnist', split='train', as_supervised=True,  shuffle_files=True,with_info=True)\n",
    "# De los datos, se extrae los datos de entrenamiento y test\n",
    "mnist = tf.keras.datasets.mnist\n",
    "(x_train_orig, y_train_orig), (x_test_orig, y_test_orig) = mnist.load_data()\n",
    "x_train = x_train_orig.reshape(x_train.shape[0], 784)\n",
    "x_test = x_test_orig.reshape(x_test.shape[0], 784)\n",
    "\n",
    "# El formato original esta en \"unit8\" con lo que se tiene que convertir en un float32 para que funcione\n",
    "x_train = x_train.astype('float32')\n",
    "x_test = x_test.astype('float32')\n",
    "\n",
    "#Se divide la imagen en 255 porque es la escala de grises y es mejor operar con 0 y 1. Más sencillo\n",
    "x_train, x_test = x_train / 255.0, x_test / 255.0\n",
    "\n",
    "# Paso necesario porque devuelve los registros y toda la información en la misma columna. Pero \n",
    "# se necesita esos valores esten en un matriz de 10 columnas para calcular bien los acietros.\n",
    "y_train = to_categorical(y_train_orig, 10)\n",
    "y_test = to_categorical(y_test_orig, 10)\n"
   ]
  },
  {
   "cell_type": "code",
   "execution_count": 4,
   "metadata": {},
   "outputs": [],
   "source": [
    "# El modelo keras se basa en capas donde vas añadiendolas para \n",
    "# ir construyendo la red neuronal\n",
    "model = tf.keras.Sequential()\n",
    "# La función sigmoid es la que hace el calculo de peso. Haría primero:\n",
    "# 1. y = tf.matmul(x,P)+b en la versión que no funciona \n",
    "# 2. Luego devolvería 0 o 1 según se acerque al valor. Que sería, creo, calcular el gradiente\n",
    "# descendiente. Es por ello que los datos de entrada se \n",
    "# dividen entre 255 para obtener un valor entre 0 y 1.\n",
    "model.add(tf.keras.layers.Dense(10,activation='sigmoid', input_shape=(784,)))\n",
    "# Esta función es la que se encarga de calcular la probabilidad que \n",
    "# el resultado devuelto en el paso anterior a que número pertenzca. Por eso\n",
    "# la red neuronal tiene 10 columnas, y las etiquetas del set de datos\n",
    "# se han convertido a 10.\n",
    "model.add(tf.keras.layers.Dense(10,activation='softmax'))"
   ]
  },
  {
   "cell_type": "code",
   "execution_count": 5,
   "metadata": {
    "tags": []
   },
   "outputs": [
    {
     "output_type": "stream",
     "name": "stdout",
     "text": "Model: \"sequential\"\n_________________________________________________________________\nLayer (type)                 Output Shape              Param #   \n=================================================================\ndense (Dense)                (None, 10)                7850      \n_________________________________________________________________\ndense_1 (Dense)              (None, 10)                110       \n=================================================================\nTotal params: 7,960\nTrainable params: 7,960\nNon-trainable params: 0\n_________________________________________________________________\n"
    }
   ],
   "source": [
    "# Este paso es opcional y permite ver los parámetros de cada capa que se añade\n",
    "# La primera es que se usa para el calculo de pesos y la gradiente descendiente\n",
    "# y tiene 7850. Que son 784 de la entrada de datos(28x28)*10(número de neuronas de entrada)\n",
    "# + 10 sesgo.\n",
    "# La segunda capa son 10 neuronas de salida *10 del paso anterior + 10 del sesgo\n",
    "model.summary()"
   ]
  },
  {
   "cell_type": "code",
   "execution_count": 6,
   "metadata": {},
   "outputs": [],
   "source": [
    "# Este es el paso de configuración del aprendizaje del modelo\n",
    "# El parámetro \"loss\" es que la algoritmo/proceso de calculo en el softmax. \n",
    "# En el parámetro \"optimizer\" es el algoritmo que se usa para el calculo de peso y el gradiente descendiente\n",
    "# El parámetro \"metrics\" sirve para monitorizar el proceso de entrenamiento. Hay varias metricas que se puede usar\n",
    "# pero en el ejemplo solo usa esta.\n",
    "model.compile(loss=\"categorical_crossentropy\", optimizer=\"sgd\",metrics = ['accuracy'])"
   ]
  },
  {
   "cell_type": "code",
   "execution_count": 8,
   "metadata": {
    "tags": []
   },
   "outputs": [
    {
     "output_type": "stream",
     "name": "stdout",
     "text": "Train on 60000 samples\nEpoch 1/10\n60000/60000 [==============================] - 1s 23us/sample - loss: 0.4398 - accuracy: 0.8895\nEpoch 2/10\n60000/60000 [==============================] - 1s 23us/sample - loss: 0.4233 - accuracy: 0.8927\nEpoch 3/10\n60000/60000 [==============================] - 1s 23us/sample - loss: 0.4094 - accuracy: 0.8955\nEpoch 4/10\n60000/60000 [==============================] - 1s 24us/sample - loss: 0.3973 - accuracy: 0.8973\nEpoch 5/10\n60000/60000 [==============================] - 1s 23us/sample - loss: 0.3868 - accuracy: 0.8996\nEpoch 6/10\n60000/60000 [==============================] - 1s 23us/sample - loss: 0.3774 - accuracy: 0.9018\nEpoch 7/10\n60000/60000 [==============================] - 1s 24us/sample - loss: 0.3691 - accuracy: 0.9037\nEpoch 8/10\n60000/60000 [==============================] - 1s 23us/sample - loss: 0.3615 - accuracy: 0.9050\nEpoch 9/10\n60000/60000 [==============================] - 1s 23us/sample - loss: 0.3548 - accuracy: 0.9060\nEpoch 10/10\n60000/60000 [==============================] - 1s 23us/sample - loss: 0.3486 - accuracy: 0.9078\n"
    },
    {
     "output_type": "execute_result",
     "data": {
      "text/plain": "<tensorflow.python.keras.callbacks.History at 0x2016e576c88>"
     },
     "metadata": {},
     "execution_count": 8
    }
   ],
   "source": [
    "# Ahora toca entrenar el modelo. Se le pasan los datos de entrenamiento y sus etiquetas\n",
    "# El nuúmero de \"epochs\" es la veces que se va entrenar el algoritmo\n",
    "# Hay un parámetro que no esta que es el batch_size que indica cuantos datos se van a usar \n",
    "# para calcular los parámetro del modelo(los pesos)\n",
    "# El parámetro verbose es para indicar si nos va dar salida de los pasos que va haciendo\n",
    "# 0 = no sale nada. 1 barra de progreso. 2 una linea por epoch\n",
    "model.fit(x_train, y_train, epochs=10, verbose=1)"
   ]
  },
  {
   "cell_type": "code",
   "execution_count": 9,
   "metadata": {
    "tags": []
   },
   "outputs": [
    {
     "output_type": "stream",
     "name": "stdout",
     "text": "10000/10000 [==============================] - 0s 26us/sample - loss: 0.3391 - accuracy: 0.9099\n"
    }
   ],
   "source": [
    "# Evaluar el modelo a partir de los datos de test.\n",
    "test_loss, test_acc = model.evaluate(x_test, y_test)"
   ]
  },
  {
   "cell_type": "code",
   "execution_count": 11,
   "metadata": {
    "tags": []
   },
   "outputs": [
    {
     "output_type": "stream",
     "name": "stdout",
     "text": "% de acierto 0.9099\n"
    }
   ],
   "source": [
    "# En el paso anterior devolverá el % de acierto porque al modelo le hemos indicado\n",
    "# que muestre el progreso que va haciendo. Pero también se puede saber \n",
    "# mostrando el resultado de la variable\n",
    "print(\"% de acierto\", test_acc)"
   ]
  },
  {
   "cell_type": "code",
   "execution_count": 26,
   "metadata": {},
   "outputs": [
    {
     "output_type": "execute_result",
     "data": {
      "text/plain": "<matplotlib.image.AxesImage at 0x2016fec3088>"
     },
     "metadata": {},
     "execution_count": 26
    },
    {
     "output_type": "display_data",
     "data": {
      "text/plain": "<Figure size 432x288 with 1 Axes>",
      "image/svg+xml": "<?xml version=\"1.0\" encoding=\"utf-8\" standalone=\"no\"?>\r\n<!DOCTYPE svg PUBLIC \"-//W3C//DTD SVG 1.1//EN\"\r\n  \"http://www.w3.org/Graphics/SVG/1.1/DTD/svg11.dtd\">\r\n<!-- Created with matplotlib (https://matplotlib.org/) -->\r\n<svg height=\"248.518125pt\" version=\"1.1\" viewBox=\"0 0 251.565 248.518125\" width=\"251.565pt\" xmlns=\"http://www.w3.org/2000/svg\" xmlns:xlink=\"http://www.w3.org/1999/xlink\">\r\n <defs>\r\n  <style type=\"text/css\">\r\n*{stroke-linecap:butt;stroke-linejoin:round;}\r\n  </style>\r\n </defs>\r\n <g id=\"figure_1\">\r\n  <g id=\"patch_1\">\r\n   <path d=\"M 0 248.518125 \r\nL 251.565 248.518125 \r\nL 251.565 0 \r\nL 0 0 \r\nz\r\n\" style=\"fill:none;\"/>\r\n  </g>\r\n  <g id=\"axes_1\">\r\n   <g id=\"patch_2\">\r\n    <path d=\"M 26.925 224.64 \r\nL 244.365 224.64 \r\nL 244.365 7.2 \r\nL 26.925 7.2 \r\nz\r\n\" style=\"fill:#ffffff;\"/>\r\n   </g>\r\n   <g clip-path=\"url(#pcf13172f38)\">\r\n    <image height=\"218\" id=\"imageb7769371a9\" transform=\"scale(1 -1)translate(0 -218)\" width=\"218\" x=\"26.925\" xlink:href=\"data:image/png;base64,\r\niVBORw0KGgoAAAANSUhEUgAAANoAAADaCAYAAADAHVzbAAAABHNCSVQICAgIfAhkiAAABMBJREFUeJzt3b1qVGsDhuGdjQbshFiKlaWgCFpoYSk2FoKF4CF4BGop1oKgYGWTWmwstFckYCNWlv5UitqIGnT2CTjv8K18uePE62of1pqBcPPCLGayMpvNZv8A2+rfnX4D8DcQGgSEBgGhQUBoEBAaBIQGAaFBQGgQEBoEhAYBoUFAaBAQGgSEBgGhQUBoEBAaBIQGAaFBQGgQEBoE9uz0G9it3r9/P3e7fv368Nrjx48P9ytXrkx6T+wcJxoEhAYBoUFAaBAQGgSEBgGhQcBztIl+/vw53K9duzZ3u3///pbuzfJxokFAaBAQGgSEBgGhQUBoEBAaBDxHm+jXr1/DfWNjY/K9X79+Pfla/kxONAgIDQJCg4DQICA0CAgNAkKDgOdoE+3du3e4Hz58eO726tWr4bXfvn0b7pubm8N90Xuj50SDgNAgIDQICA0CQoOA0CAgNAh4jrZNzp49O3d7+PDh8No3b94M9y9fvgz3AwcODHd6TjQICA0CQoOA0CAgNAgIDQI+3t8ma2trk6/98OHDcL9169Zwv3HjxuTXZns40SAgNAgIDQJCg4DQICA0CAgNAiuz2Wy2029iN3r79u3c7dChQ8NrF/1Jjhw5Mtxfvnw53Ok50SAgNAgIDQJCg4DQICA0CAgNAp6j7YDLly8P9/X19eG+f//+4f748ePhfuLEieHO/58TDQJCg4DQICA0CAgNAkKDgNAg4Hcdd8DFixeH+6LnaJ8/fx7u9+7dG+6eo/WcaBAQGgSEBgGhQUBoEBAaBHy8vwMW/UunlZWV4b7om01Pnjz5n98T28uJBgGhQUBoEBAaBIQGAaFBQGgQ8HNzf6Dt/jm60b91Onjw4PBapnGiQUBoEBAaBIQGAaFBQGgQEBoEfB/tD7To5+C2+nN0d+7cmbvdvHlzeC3TONEgIDQICA0CQoOA0CAgNAgIDQK+j/YHevr06XA/ffr0lu4/+r7ap0+ftnRvfs+JBgGhQUBoEBAaBIQGAaFBQGgQ8BxtCZ06dWq4P3v2bLivrq7O3Z4/fz689tixY8Od33OiQUBoEBAaBIQGAaFBQGgQ8HNzS+jMmTPDfdHH+z9+/Ji7Xb16dXjto0ePhju/50SDgNAgIDQICA0CQoOA0CAgNAj4mswS2tjYGO4nT56cfO89e8aPVjc3Nyff+2/mRIOA0CAgNAgIDQJCg4DQICA0CHiOtoS+f/8+3Bf9HN2LFy8mv/ai76OdO3du8r13MycaBIQGAaFBQGgQEBoEhAYBoUHAc7Rd6MGDB8P9woULk+996dKl4b6+vj7cV1ZWJr/2MnOiQUBoEBAaBIQGAaFBQGgQEBoEPEfbhT5+/Djcjx49Ond79+7dll7769evw33fvn1buv+ycqJBQGgQEBoEhAYBoUFAaBAY/48eltLa2tpwv3v37tzt/Pnzw2tv37493FdXV4f738qJBgGhQUBoEBAaBIQGAaFBQGgQ8DUZCDjRICA0CAgNAkKDgNAgIDQICA0CQoOA0CAgNAgIDQJCg4DQICA0CAgNAkKDgNAgIDQICA0CQoOA0CAgNAgIDQJCg4DQICA0CAgNAkKDgNAgIDQICA0CQoOA0CAgNAgIDQJCg4DQICA0CPwHktPABCdNhtsAAAAASUVORK5CYII=\" y=\"-6.64\"/>\r\n   </g>\r\n   <g id=\"matplotlib.axis_1\">\r\n    <g id=\"xtick_1\">\r\n     <g id=\"line2d_1\">\r\n      <defs>\r\n       <path d=\"M 0 0 \r\nL 0 3.5 \r\n\" id=\"m3e0090b8f9\" style=\"stroke:#000000;stroke-width:0.8;\"/>\r\n      </defs>\r\n      <g>\r\n       <use style=\"stroke:#000000;stroke-width:0.8;\" x=\"30.807857\" xlink:href=\"#m3e0090b8f9\" y=\"224.64\"/>\r\n      </g>\r\n     </g>\r\n     <g id=\"text_1\">\r\n      <!-- 0 -->\r\n      <defs>\r\n       <path d=\"M 31.78125 66.40625 \r\nQ 24.171875 66.40625 20.328125 58.90625 \r\nQ 16.5 51.421875 16.5 36.375 \r\nQ 16.5 21.390625 20.328125 13.890625 \r\nQ 24.171875 6.390625 31.78125 6.390625 \r\nQ 39.453125 6.390625 43.28125 13.890625 \r\nQ 47.125 21.390625 47.125 36.375 \r\nQ 47.125 51.421875 43.28125 58.90625 \r\nQ 39.453125 66.40625 31.78125 66.40625 \r\nz\r\nM 31.78125 74.21875 \r\nQ 44.046875 74.21875 50.515625 64.515625 \r\nQ 56.984375 54.828125 56.984375 36.375 \r\nQ 56.984375 17.96875 50.515625 8.265625 \r\nQ 44.046875 -1.421875 31.78125 -1.421875 \r\nQ 19.53125 -1.421875 13.0625 8.265625 \r\nQ 6.59375 17.96875 6.59375 36.375 \r\nQ 6.59375 54.828125 13.0625 64.515625 \r\nQ 19.53125 74.21875 31.78125 74.21875 \r\nz\r\n\" id=\"DejaVuSans-48\"/>\r\n      </defs>\r\n      <g transform=\"translate(27.626607 239.238437)scale(0.1 -0.1)\">\r\n       <use xlink:href=\"#DejaVuSans-48\"/>\r\n      </g>\r\n     </g>\r\n    </g>\r\n    <g id=\"xtick_2\">\r\n     <g id=\"line2d_2\">\r\n      <g>\r\n       <use style=\"stroke:#000000;stroke-width:0.8;\" x=\"69.636429\" xlink:href=\"#m3e0090b8f9\" y=\"224.64\"/>\r\n      </g>\r\n     </g>\r\n     <g id=\"text_2\">\r\n      <!-- 5 -->\r\n      <defs>\r\n       <path d=\"M 10.796875 72.90625 \r\nL 49.515625 72.90625 \r\nL 49.515625 64.59375 \r\nL 19.828125 64.59375 \r\nL 19.828125 46.734375 \r\nQ 21.96875 47.46875 24.109375 47.828125 \r\nQ 26.265625 48.1875 28.421875 48.1875 \r\nQ 40.625 48.1875 47.75 41.5 \r\nQ 54.890625 34.8125 54.890625 23.390625 \r\nQ 54.890625 11.625 47.5625 5.09375 \r\nQ 40.234375 -1.421875 26.90625 -1.421875 \r\nQ 22.3125 -1.421875 17.546875 -0.640625 \r\nQ 12.796875 0.140625 7.71875 1.703125 \r\nL 7.71875 11.625 \r\nQ 12.109375 9.234375 16.796875 8.0625 \r\nQ 21.484375 6.890625 26.703125 6.890625 \r\nQ 35.15625 6.890625 40.078125 11.328125 \r\nQ 45.015625 15.765625 45.015625 23.390625 \r\nQ 45.015625 31 40.078125 35.4375 \r\nQ 35.15625 39.890625 26.703125 39.890625 \r\nQ 22.75 39.890625 18.8125 39.015625 \r\nQ 14.890625 38.140625 10.796875 36.28125 \r\nz\r\n\" id=\"DejaVuSans-53\"/>\r\n      </defs>\r\n      <g transform=\"translate(66.455179 239.238437)scale(0.1 -0.1)\">\r\n       <use xlink:href=\"#DejaVuSans-53\"/>\r\n      </g>\r\n     </g>\r\n    </g>\r\n    <g id=\"xtick_3\">\r\n     <g id=\"line2d_3\">\r\n      <g>\r\n       <use style=\"stroke:#000000;stroke-width:0.8;\" x=\"108.465\" xlink:href=\"#m3e0090b8f9\" y=\"224.64\"/>\r\n      </g>\r\n     </g>\r\n     <g id=\"text_3\">\r\n      <!-- 10 -->\r\n      <defs>\r\n       <path d=\"M 12.40625 8.296875 \r\nL 28.515625 8.296875 \r\nL 28.515625 63.921875 \r\nL 10.984375 60.40625 \r\nL 10.984375 69.390625 \r\nL 28.421875 72.90625 \r\nL 38.28125 72.90625 \r\nL 38.28125 8.296875 \r\nL 54.390625 8.296875 \r\nL 54.390625 0 \r\nL 12.40625 0 \r\nz\r\n\" id=\"DejaVuSans-49\"/>\r\n      </defs>\r\n      <g transform=\"translate(102.1025 239.238437)scale(0.1 -0.1)\">\r\n       <use xlink:href=\"#DejaVuSans-49\"/>\r\n       <use x=\"63.623047\" xlink:href=\"#DejaVuSans-48\"/>\r\n      </g>\r\n     </g>\r\n    </g>\r\n    <g id=\"xtick_4\">\r\n     <g id=\"line2d_4\">\r\n      <g>\r\n       <use style=\"stroke:#000000;stroke-width:0.8;\" x=\"147.293571\" xlink:href=\"#m3e0090b8f9\" y=\"224.64\"/>\r\n      </g>\r\n     </g>\r\n     <g id=\"text_4\">\r\n      <!-- 15 -->\r\n      <g transform=\"translate(140.931071 239.238437)scale(0.1 -0.1)\">\r\n       <use xlink:href=\"#DejaVuSans-49\"/>\r\n       <use x=\"63.623047\" xlink:href=\"#DejaVuSans-53\"/>\r\n      </g>\r\n     </g>\r\n    </g>\r\n    <g id=\"xtick_5\">\r\n     <g id=\"line2d_5\">\r\n      <g>\r\n       <use style=\"stroke:#000000;stroke-width:0.8;\" x=\"186.122143\" xlink:href=\"#m3e0090b8f9\" y=\"224.64\"/>\r\n      </g>\r\n     </g>\r\n     <g id=\"text_5\">\r\n      <!-- 20 -->\r\n      <defs>\r\n       <path d=\"M 19.1875 8.296875 \r\nL 53.609375 8.296875 \r\nL 53.609375 0 \r\nL 7.328125 0 \r\nL 7.328125 8.296875 \r\nQ 12.9375 14.109375 22.625 23.890625 \r\nQ 32.328125 33.6875 34.8125 36.53125 \r\nQ 39.546875 41.84375 41.421875 45.53125 \r\nQ 43.3125 49.21875 43.3125 52.78125 \r\nQ 43.3125 58.59375 39.234375 62.25 \r\nQ 35.15625 65.921875 28.609375 65.921875 \r\nQ 23.96875 65.921875 18.8125 64.3125 \r\nQ 13.671875 62.703125 7.8125 59.421875 \r\nL 7.8125 69.390625 \r\nQ 13.765625 71.78125 18.9375 73 \r\nQ 24.125 74.21875 28.421875 74.21875 \r\nQ 39.75 74.21875 46.484375 68.546875 \r\nQ 53.21875 62.890625 53.21875 53.421875 \r\nQ 53.21875 48.921875 51.53125 44.890625 \r\nQ 49.859375 40.875 45.40625 35.40625 \r\nQ 44.1875 33.984375 37.640625 27.21875 \r\nQ 31.109375 20.453125 19.1875 8.296875 \r\nz\r\n\" id=\"DejaVuSans-50\"/>\r\n      </defs>\r\n      <g transform=\"translate(179.759643 239.238437)scale(0.1 -0.1)\">\r\n       <use xlink:href=\"#DejaVuSans-50\"/>\r\n       <use x=\"63.623047\" xlink:href=\"#DejaVuSans-48\"/>\r\n      </g>\r\n     </g>\r\n    </g>\r\n    <g id=\"xtick_6\">\r\n     <g id=\"line2d_6\">\r\n      <g>\r\n       <use style=\"stroke:#000000;stroke-width:0.8;\" x=\"224.950714\" xlink:href=\"#m3e0090b8f9\" y=\"224.64\"/>\r\n      </g>\r\n     </g>\r\n     <g id=\"text_6\">\r\n      <!-- 25 -->\r\n      <g transform=\"translate(218.588214 239.238437)scale(0.1 -0.1)\">\r\n       <use xlink:href=\"#DejaVuSans-50\"/>\r\n       <use x=\"63.623047\" xlink:href=\"#DejaVuSans-53\"/>\r\n      </g>\r\n     </g>\r\n    </g>\r\n   </g>\r\n   <g id=\"matplotlib.axis_2\">\r\n    <g id=\"ytick_1\">\r\n     <g id=\"line2d_7\">\r\n      <defs>\r\n       <path d=\"M 0 0 \r\nL -3.5 0 \r\n\" id=\"mcedf92f103\" style=\"stroke:#000000;stroke-width:0.8;\"/>\r\n      </defs>\r\n      <g>\r\n       <use style=\"stroke:#000000;stroke-width:0.8;\" x=\"26.925\" xlink:href=\"#mcedf92f103\" y=\"11.082857\"/>\r\n      </g>\r\n     </g>\r\n     <g id=\"text_7\">\r\n      <!-- 0 -->\r\n      <g transform=\"translate(13.5625 14.882076)scale(0.1 -0.1)\">\r\n       <use xlink:href=\"#DejaVuSans-48\"/>\r\n      </g>\r\n     </g>\r\n    </g>\r\n    <g id=\"ytick_2\">\r\n     <g id=\"line2d_8\">\r\n      <g>\r\n       <use style=\"stroke:#000000;stroke-width:0.8;\" x=\"26.925\" xlink:href=\"#mcedf92f103\" y=\"49.911429\"/>\r\n      </g>\r\n     </g>\r\n     <g id=\"text_8\">\r\n      <!-- 5 -->\r\n      <g transform=\"translate(13.5625 53.710647)scale(0.1 -0.1)\">\r\n       <use xlink:href=\"#DejaVuSans-53\"/>\r\n      </g>\r\n     </g>\r\n    </g>\r\n    <g id=\"ytick_3\">\r\n     <g id=\"line2d_9\">\r\n      <g>\r\n       <use style=\"stroke:#000000;stroke-width:0.8;\" x=\"26.925\" xlink:href=\"#mcedf92f103\" y=\"88.74\"/>\r\n      </g>\r\n     </g>\r\n     <g id=\"text_9\">\r\n      <!-- 10 -->\r\n      <g transform=\"translate(7.2 92.539219)scale(0.1 -0.1)\">\r\n       <use xlink:href=\"#DejaVuSans-49\"/>\r\n       <use x=\"63.623047\" xlink:href=\"#DejaVuSans-48\"/>\r\n      </g>\r\n     </g>\r\n    </g>\r\n    <g id=\"ytick_4\">\r\n     <g id=\"line2d_10\">\r\n      <g>\r\n       <use style=\"stroke:#000000;stroke-width:0.8;\" x=\"26.925\" xlink:href=\"#mcedf92f103\" y=\"127.568571\"/>\r\n      </g>\r\n     </g>\r\n     <g id=\"text_10\">\r\n      <!-- 15 -->\r\n      <g transform=\"translate(7.2 131.36779)scale(0.1 -0.1)\">\r\n       <use xlink:href=\"#DejaVuSans-49\"/>\r\n       <use x=\"63.623047\" xlink:href=\"#DejaVuSans-53\"/>\r\n      </g>\r\n     </g>\r\n    </g>\r\n    <g id=\"ytick_5\">\r\n     <g id=\"line2d_11\">\r\n      <g>\r\n       <use style=\"stroke:#000000;stroke-width:0.8;\" x=\"26.925\" xlink:href=\"#mcedf92f103\" y=\"166.397143\"/>\r\n      </g>\r\n     </g>\r\n     <g id=\"text_11\">\r\n      <!-- 20 -->\r\n      <g transform=\"translate(7.2 170.196362)scale(0.1 -0.1)\">\r\n       <use xlink:href=\"#DejaVuSans-50\"/>\r\n       <use x=\"63.623047\" xlink:href=\"#DejaVuSans-48\"/>\r\n      </g>\r\n     </g>\r\n    </g>\r\n    <g id=\"ytick_6\">\r\n     <g id=\"line2d_12\">\r\n      <g>\r\n       <use style=\"stroke:#000000;stroke-width:0.8;\" x=\"26.925\" xlink:href=\"#mcedf92f103\" y=\"205.225714\"/>\r\n      </g>\r\n     </g>\r\n     <g id=\"text_12\">\r\n      <!-- 25 -->\r\n      <g transform=\"translate(7.2 209.024933)scale(0.1 -0.1)\">\r\n       <use xlink:href=\"#DejaVuSans-50\"/>\r\n       <use x=\"63.623047\" xlink:href=\"#DejaVuSans-53\"/>\r\n      </g>\r\n     </g>\r\n    </g>\r\n   </g>\r\n   <g id=\"patch_3\">\r\n    <path d=\"M 26.925 224.64 \r\nL 26.925 7.2 \r\n\" style=\"fill:none;stroke:#000000;stroke-linecap:square;stroke-linejoin:miter;stroke-width:0.8;\"/>\r\n   </g>\r\n   <g id=\"patch_4\">\r\n    <path d=\"M 244.365 224.64 \r\nL 244.365 7.2 \r\n\" style=\"fill:none;stroke:#000000;stroke-linecap:square;stroke-linejoin:miter;stroke-width:0.8;\"/>\r\n   </g>\r\n   <g id=\"patch_5\">\r\n    <path d=\"M 26.925 224.64 \r\nL 244.365 224.64 \r\n\" style=\"fill:none;stroke:#000000;stroke-linecap:square;stroke-linejoin:miter;stroke-width:0.8;\"/>\r\n   </g>\r\n   <g id=\"patch_6\">\r\n    <path d=\"M 26.925 7.2 \r\nL 244.365 7.2 \r\n\" style=\"fill:none;stroke:#000000;stroke-linecap:square;stroke-linejoin:miter;stroke-width:0.8;\"/>\r\n   </g>\r\n  </g>\r\n </g>\r\n <defs>\r\n  <clipPath id=\"pcf13172f38\">\r\n   <rect height=\"217.44\" width=\"217.44\" x=\"26.925\" y=\"7.2\"/>\r\n  </clipPath>\r\n </defs>\r\n</svg>\r\n",
      "image/png": "[encoded data removed]"
     },
     "metadata": {
      "needs_background": "light"
     }
    }
   ],
   "source": [
    "# Ahora vamos a predecir el número de una imagen de test.\n",
    "# Numero de imagen que vamos a usar, será 5. Y la mostramos antes de nada\n",
    "image = 5\n",
    "# Para que se visualice hay que usarl el modelo de original sin transformar\n",
    "plt.imshow(x_test_orig[image], cmap=plt.cm.binary)"
   ]
  },
  {
   "cell_type": "code",
   "execution_count": 27,
   "metadata": {
    "tags": []
   },
   "outputs": [
    {
     "output_type": "stream",
     "name": "stdout",
     "text": "Model prediction:  1\n"
    }
   ],
   "source": [
    "# Le pasamos al modelo los datos que se usarán para la predicción. Que es el transformado\n",
    "prediction = model.predict(x_test)\n",
    "\n",
    "# el np.argmax nos dice el índice del vector que tiene la posición más alta. \n",
    "# La salida de la red es una matriz de 10 columnas. Donde en cada una de ellas contendrá 0 o 1\n",
    "# según la predicción del modelo.\n",
    "print(\"Número que se predice: \", np.argmax(prediction[image]) )"
   ]
  },
  {
   "cell_type": "code",
   "execution_count": null,
   "metadata": {},
   "outputs": [],
   "source": []
  }
 ]
}