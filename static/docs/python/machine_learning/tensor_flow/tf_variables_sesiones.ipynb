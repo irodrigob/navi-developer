{
 "metadata": {
  "language_info": {
   "codemirror_mode": {
    "name": "ipython",
    "version": 3
   },
   "file_extension": ".py",
   "mimetype": "text/x-python",
   "name": "python",
   "nbconvert_exporter": "python",
   "pygments_lexer": "ipython3",
   "version": "3.7.7-final"
  },
  "orig_nbformat": 2,
  "kernelspec": {
   "name": "python_defaultSpec_1595520018924",
   "display_name": "Python 3.7.7 64-bit ('test': conda)"
  }
 },
 "nbformat": 4,
 "nbformat_minor": 2,
 "cells": [
  {
   "cell_type": "code",
   "execution_count": 1,
   "metadata": {
    "tags": []
   },
   "outputs": [],
   "source": [
    "# Libería de tensor flow\n",
    "import tensorflow as tf\n",
    "# Estas dos líneas es para que funcione el placeholder\n",
    "#import tensorflow.compat.v1 as tf\n",
    "#tf.disable_v2_behavior() "
   ]
  },
  {
   "cell_type": "code",
   "execution_count": 2,
   "metadata": {},
   "outputs": [],
   "source": [
    "# Definición de una constante\n",
    "constante = tf.constant([2.0,3,4], dtype=tf.float32,name='Constante1')"
   ]
  },
  {
   "cell_type": "code",
   "execution_count": 3,
   "metadata": {
    "tags": []
   },
   "outputs": [
    {
     "output_type": "stream",
     "name": "stdout",
     "text": "tf.Tensor([2. 3. 4.], shape=(3,), dtype=float32)\n"
    }
   ],
   "source": [
    "# Atributos de la constante\n",
    "print(constante)"
   ]
  },
  {
   "cell_type": "code",
   "execution_count": 30,
   "metadata": {},
   "outputs": [],
   "source": [
    "# Para que funcione el placeholder hay que cargar las librerías\n",
    "# del tensorflow de manera distinta\n",
    "# Placeholder es una variable que se crea de inicio vacia, pero \n",
    "# servira para ir rellenandola más adelante. Normalmente se \n",
    "# usan para el \"input\" de data\n",
    "# En este ejemplo se usa la versión que sustituye a la antigua\n",
    "#apartado = tf.placeholder(dtype=tf.float32, name='Variable1') # Version v1\n",
    "apartado = tf.keras.Input(name='Variable1', shape=(), dtype=tf.float32)"
   ]
  },
  {
   "cell_type": "code",
   "execution_count": 31,
   "metadata": {
    "tags": []
   },
   "outputs": [
    {
     "output_type": "stream",
     "name": "stdout",
     "text": "Tensor(\"Variable1_1:0\", shape=(None,), dtype=float32)\n"
    }
   ],
   "source": [
    "# Atributos del placeholder\n",
    "print(apartado)"
   ]
  },
  {
   "cell_type": "code",
   "execution_count": 6,
   "metadata": {},
   "outputs": [],
   "source": [
    "# Variables\n",
    "# Es un atributo que pueda cambiar de valor a lo largo del programa.\n",
    "variable = tf.Variable(3,dtype=tf.float32,name=\"variable1\")"
   ]
  },
  {
   "cell_type": "code",
   "execution_count": 7,
   "metadata": {
    "tags": []
   },
   "outputs": [
    {
     "output_type": "stream",
     "name": "stdout",
     "text": "<tf.Variable 'variable1:0' shape=() dtype=float32, numpy=3.0>\n"
    }
   ],
   "source": [
    "# Atributos de variable\n",
    "print(variable)"
   ]
  },
  {
   "cell_type": "code",
   "execution_count": 8,
   "metadata": {},
   "outputs": [],
   "source": [
    "# Se genera un matriz con todo ceros que luego se puede manipular\n",
    "# Se indica que tendrá 3 filas y 4 columnas \n",
    "matriz = tf.zeros([3,4],tf.int32,name='matriz')"
   ]
  },
  {
   "cell_type": "code",
   "execution_count": 9,
   "metadata": {
    "tags": []
   },
   "outputs": [
    {
     "output_type": "stream",
     "name": "stdout",
     "text": "tf.Tensor(\n[[0 0 0 0]\n [0 0 0 0]\n [0 0 0 0]], shape=(3, 4), dtype=int32)\n"
    }
   ],
   "source": [
    "# Atributo\n",
    "print(matriz)"
   ]
  },
  {
   "cell_type": "code",
   "execution_count": 10,
   "metadata": {},
   "outputs": [],
   "source": [
    "# Se inicializa las variables de nuestra aplicación\n",
    "# Esto con TF2.0 ya no es necesario\n",
    "#inicializar = tf.global_variables_initializer()"
   ]
  },
  {
   "cell_type": "code",
   "execution_count": 21,
   "metadata": {},
   "outputs": [],
   "source": [
    "# Inicializa la sesión de tensorflow. Con TF2.0 no es necesario\n",
    "#sess = tf.Session()"
   ]
  },
  {
   "cell_type": "code",
   "execution_count": 12,
   "metadata": {},
   "outputs": [],
   "source": [
    "# Lo que hace es informar nuestras variables en las sesion de TF\n",
    "# Este paso no es necesario usarlo en TF2.ProcessLookupError0\n",
    "#sess.run(tf.global_variables_initializer())"
   ]
  },
  {
   "cell_type": "code",
   "execution_count": 18,
   "metadata": {
    "tags": []
   },
   "outputs": [],
   "source": [
    "# No hace usar sar sess.run para cualquier cosa en TF20\n",
    "#print(sess.run(constante))"
   ]
  },
  {
   "cell_type": "code",
   "execution_count": 33,
   "metadata": {
    "tags": []
   },
   "outputs": [
    {
     "output_type": "stream",
     "name": "stdout",
     "text": "Valor de multiplicacion: Tensor(\"mul_3:0\", shape=(3,), dtype=float32)\n"
    }
   ],
   "source": [
    "# Se hace la multiplicacion entre apartado y constante\n",
    "multiplicacion=apartado*constante\n"
   ]
  },
  {
   "cell_type": "code",
   "execution_count": null,
   "metadata": {},
   "outputs": [],
   "source": [
    "# No habrá resultado porque apartado esta vacio\n",
    "print(\"Valor de multiplicacion:\", multiplicacion)"
   ]
  },
  {
   "cell_type": "code",
   "execution_count": 34,
   "metadata": {
    "tags": []
   },
   "outputs": [],
   "source": [
    "# Se rellena los valores de apartado\n",
    "apartado = [[15,10,5]]"
   ]
  },
  {
   "cell_type": "code",
   "execution_count": 37,
   "metadata": {
    "tags": []
   },
   "outputs": [],
   "source": [
    "# Se vuelve a repetir la formula\n",
    "multiplicacion=apartado*constante"
   ]
  },
  {
   "cell_type": "code",
   "execution_count": 38,
   "metadata": {
    "tags": []
   },
   "outputs": [
    {
     "output_type": "stream",
     "name": "stdout",
     "text": "Valor de multiplicacion: tf.Tensor([[30. 30. 20.]], shape=(1, 3), dtype=float32)\n"
    }
   ],
   "source": [
    "# Ahora si que devuelve datos. Cada columna se multipla por la constante \n",
    "# que es: 2.0, 3 y 4 * 15, 10 y 5. Queda como resultado 30, 30 y 20\n",
    "print(\"Valor de multiplicacion:\", multiplicacion)"
   ]
  },
  {
   "cell_type": "code",
   "execution_count": 40,
   "metadata": {},
   "outputs": [],
   "source": [
    "# Ejemplo de multiplicación de matrices necesita la forma (M,N)X(N,M)=M,M\n",
    "# Primera matriz: 2 filas y 2 columnas\n",
    "a = tf.keras.Input(shape=(2,2), dtype=tf.float32)\n",
    "# Segunda matriz: 2 filas y 3 columnas\n",
    "b = tf.keras.Input(shape=(2,3), dtype=tf.float32)"
   ]
  },
  {
   "cell_type": "code",
   "execution_count": 44,
   "metadata": {
    "tags": []
   },
   "outputs": [],
   "source": [
    "# Datos de la primera matriz\n",
    "a = [[1,2],[2,2]]\n",
    "# Datos de la segunda matriz\n",
    "b = [[12,21,4],[3,2,4]]"
   ]
  },
  {
   "cell_type": "markdown",
   "metadata": {},
   "source": []
  },
  {
   "cell_type": "code",
   "execution_count": 47,
   "metadata": {},
   "outputs": [],
   "source": [
    "# Multiplicación de ambas matrices: (2,2) * (2,3)\n",
    "mult = tf.matmul(a,b)"
   ]
  },
  {
   "cell_type": "code",
   "execution_count": 49,
   "metadata": {
    "tags": []
   },
   "outputs": [
    {
     "output_type": "stream",
     "name": "stdout",
     "text": "Resultado de mult:  tf.Tensor(\n[[18 25 12]\n [30 46 16]], shape=(2, 3), dtype=int32)\n"
    }
   ],
   "source": [
    "# Resultado\n",
    "print(\"Resultado de mult: \", mult)"
   ]
  },
  {
   "cell_type": "code",
   "execution_count": 50,
   "metadata": {},
   "outputs": [],
   "source": [
    "# Ejemplo de producto . entre dos vectores\n",
    "# Primer vector: 3 columnas\n",
    "c = tf.keras.Input(shape=(3), dtype=tf.float32)\n",
    "# Segundo vector: 3 columnas\n",
    "d = tf.keras.Input(shape=(3), dtype=tf.float32)"
   ]
  },
  {
   "cell_type": "code",
   "execution_count": 51,
   "metadata": {},
   "outputs": [],
   "source": [
    "# Datos para los vectores\n",
    "# Primer vector\n",
    "c = [1,2,3]\n",
    "# Segundo vector\n",
    "d = [3,2,1]"
   ]
  },
  {
   "cell_type": "code",
   "execution_count": 55,
   "metadata": {},
   "outputs": [],
   "source": [
    "# Calculo del producto punto\n",
    "punto = tf.tensordot(c,d,1)"
   ]
  },
  {
   "cell_type": "code",
   "execution_count": 56,
   "metadata": {
    "tags": []
   },
   "outputs": [
    {
     "output_type": "stream",
     "name": "stdout",
     "text": "Resultado:  tf.Tensor(10, shape=(), dtype=int32)\n"
    }
   ],
   "source": [
    "print(\"Resultado: \", punto)"
   ]
  },
  {
   "cell_type": "code",
   "execution_count": null,
   "metadata": {},
   "outputs": [],
   "source": []
  }
 ]
}