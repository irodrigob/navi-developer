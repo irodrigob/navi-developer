{
 "metadata": {
  "language_info": {
   "codemirror_mode": {
    "name": "ipython",
    "version": 3
   },
   "file_extension": ".py",
   "mimetype": "text/x-python",
   "name": "python",
   "nbconvert_exporter": "python",
   "pygments_lexer": "ipython3",
   "version": 3
  },
  "orig_nbformat": 2,
  "kernelspec": {
   "name": "python_defaultSpec_1596813082733",
   "display_name": "Python 3.7.7 64-bit ('tensorflow': conda)"
  }
 },
 "nbformat": 4,
 "nbformat_minor": 2,
 "cells": [
  {
   "cell_type": "code",
   "execution_count": 1,
   "metadata": {},
   "outputs": [],
   "source": [
    "import sys\n",
    "import os\n",
    "import tensorflow as tf\n",
    "import math"
   ]
  },
  {
   "cell_type": "code",
   "execution_count": 2,
   "metadata": {
    "tags": []
   },
   "outputs": [],
   "source": [
    "# VGG16 es un modelo preentrenado que contiene multitud de imagenes.\n",
    "# Este modelo preentrado es uno de los muchos que tiene Keras\n",
    "vgg = tf.keras.applications.vgg16.VGG16()"
   ]
  },
  {
   "cell_type": "code",
   "execution_count": 3,
   "metadata": {
    "tags": []
   },
   "outputs": [
    {
     "output_type": "stream",
     "name": "stdout",
     "text": "Model: \"vgg16\"\n_________________________________________________________________\nLayer (type)                 Output Shape              Param #   \n=================================================================\ninput_1 (InputLayer)         [(None, 224, 224, 3)]     0         \n_________________________________________________________________\nblock1_conv1 (Conv2D)        (None, 224, 224, 64)      1792      \n_________________________________________________________________\nblock1_conv2 (Conv2D)        (None, 224, 224, 64)      36928     \n_________________________________________________________________\nblock1_pool (MaxPooling2D)   (None, 112, 112, 64)      0         \n_________________________________________________________________\nblock2_conv1 (Conv2D)        (None, 112, 112, 128)     73856     \n_________________________________________________________________\nblock2_conv2 (Conv2D)        (None, 112, 112, 128)     147584    \n_________________________________________________________________\nblock2_pool (MaxPooling2D)   (None, 56, 56, 128)       0         \n_________________________________________________________________\nblock3_conv1 (Conv2D)        (None, 56, 56, 256)       295168    \n_________________________________________________________________\nblock3_conv2 (Conv2D)        (None, 56, 56, 256)       590080    \n_________________________________________________________________\nblock3_conv3 (Conv2D)        (None, 56, 56, 256)       590080    \n_________________________________________________________________\nblock3_pool (MaxPooling2D)   (None, 28, 28, 256)       0         \n_________________________________________________________________\nblock4_conv1 (Conv2D)        (None, 28, 28, 512)       1180160   \n_________________________________________________________________\nblock4_conv2 (Conv2D)        (None, 28, 28, 512)       2359808   \n_________________________________________________________________\nblock4_conv3 (Conv2D)        (None, 28, 28, 512)       2359808   \n_________________________________________________________________\nblock4_pool (MaxPooling2D)   (None, 14, 14, 512)       0         \n_________________________________________________________________\nblock5_conv1 (Conv2D)        (None, 14, 14, 512)       2359808   \n_________________________________________________________________\nblock5_conv2 (Conv2D)        (None, 14, 14, 512)       2359808   \n_________________________________________________________________\nblock5_conv3 (Conv2D)        (None, 14, 14, 512)       2359808   \n_________________________________________________________________\nblock5_pool (MaxPooling2D)   (None, 7, 7, 512)         0         \n_________________________________________________________________\nflatten (Flatten)            (None, 25088)             0         \n_________________________________________________________________\nfc1 (Dense)                  (None, 4096)              102764544 \n_________________________________________________________________\nfc2 (Dense)                  (None, 4096)              16781312  \n_________________________________________________________________\npredictions (Dense)          (None, 1000)              4097000   \n=================================================================\nTotal params: 138,357,544\nTrainable params: 138,357,544\nNon-trainable params: 0\n_________________________________________________________________\n"
    }
   ],
   "source": [
    "# Resumen de las capas que tiene la red neuronal VGG16\n",
    "vgg.summary()"
   ]
  },
  {
   "cell_type": "code",
   "execution_count": 4,
   "metadata": {},
   "outputs": [],
   "source": [
    "# Creación de la red convolucional\n",
    "cnn = tf.keras.Sequential()\n",
    "\n",
    "# Se añaden las capas que se ha visto antes a nuestra propia red\n",
    "for capa in vgg.layers:\n",
    "    cnn.add(capa)"
   ]
  },
  {
   "cell_type": "code",
   "execution_count": 5,
   "metadata": {
    "tags": []
   },
   "outputs": [
    {
     "output_type": "stream",
     "name": "stdout",
     "text": "Model: \"sequential\"\n_________________________________________________________________\nLayer (type)                 Output Shape              Param #   \n=================================================================\nblock1_conv1 (Conv2D)        (None, 224, 224, 64)      1792      \n_________________________________________________________________\nblock1_conv2 (Conv2D)        (None, 224, 224, 64)      36928     \n_________________________________________________________________\nblock1_pool (MaxPooling2D)   (None, 112, 112, 64)      0         \n_________________________________________________________________\nblock2_conv1 (Conv2D)        (None, 112, 112, 128)     73856     \n_________________________________________________________________\nblock2_conv2 (Conv2D)        (None, 112, 112, 128)     147584    \n_________________________________________________________________\nblock2_pool (MaxPooling2D)   (None, 56, 56, 128)       0         \n_________________________________________________________________\nblock3_conv1 (Conv2D)        (None, 56, 56, 256)       295168    \n_________________________________________________________________\nblock3_conv2 (Conv2D)        (None, 56, 56, 256)       590080    \n_________________________________________________________________\nblock3_conv3 (Conv2D)        (None, 56, 56, 256)       590080    \n_________________________________________________________________\nblock3_pool (MaxPooling2D)   (None, 28, 28, 256)       0         \n_________________________________________________________________\nblock4_conv1 (Conv2D)        (None, 28, 28, 512)       1180160   \n_________________________________________________________________\nblock4_conv2 (Conv2D)        (None, 28, 28, 512)       2359808   \n_________________________________________________________________\nblock4_conv3 (Conv2D)        (None, 28, 28, 512)       2359808   \n_________________________________________________________________\nblock4_pool (MaxPooling2D)   (None, 14, 14, 512)       0         \n_________________________________________________________________\nblock5_conv1 (Conv2D)        (None, 14, 14, 512)       2359808   \n_________________________________________________________________\nblock5_conv2 (Conv2D)        (None, 14, 14, 512)       2359808   \n_________________________________________________________________\nblock5_conv3 (Conv2D)        (None, 14, 14, 512)       2359808   \n_________________________________________________________________\nblock5_pool (MaxPooling2D)   (None, 7, 7, 512)         0         \n_________________________________________________________________\nflatten (Flatten)            (None, 25088)             0         \n_________________________________________________________________\nfc1 (Dense)                  (None, 4096)              102764544 \n_________________________________________________________________\nfc2 (Dense)                  (None, 4096)              16781312  \n_________________________________________________________________\npredictions (Dense)          (None, 1000)              4097000   \n=================================================================\nTotal params: 138,357,544\nTrainable params: 138,357,544\nNon-trainable params: 0\n_________________________________________________________________\n"
    }
   ],
   "source": [
    "# Resumen con las capas de nuestra propia red. Debe coincidir con el resumen\n",
    "# realizado en la red VGG16\n",
    "cnn.summary()"
   ]
  },
  {
   "cell_type": "code",
   "execution_count": 6,
   "metadata": {},
   "outputs": [],
   "source": [
    "# Con esto se elimina la capa de predicción. El pop elimina la ultima capa\n",
    "# del modelo. La ultima capa era la de \"predictions\" que tiene 1000 parámetros, tipos de imagenes,\n",
    "# que pued clasificar. Como queremos usarlo para el ejemplo de gatos, gorilas y perros, se quita dicha\n",
    "# capa para añadir una propia.\n",
    "cnn.pop()"
   ]
  },
  {
   "cell_type": "code",
   "execution_count": 7,
   "metadata": {},
   "outputs": [],
   "source": [
    "# Las capas que provienen del VGG16 no queremos entrenarlas porque ya lo han sido\n",
    "# en el pasado. Por lo tanto, indicamos que no es necesario entrenarlas.\n",
    "for layer in cnn.layers:\n",
    "    layer.trainable = False"
   ]
  },
  {
   "cell_type": "code",
   "execution_count": 8,
   "metadata": {},
   "outputs": [],
   "source": [
    "# Añadimos una capa de predicción de softmax que tendrá 3 neuronas. Ya que se usará el ejemplo\n",
    "# de gatos, gorilas y perros.\n",
    "cnn.add(tf.keras.layers.Dense(3,activation='softmax'))"
   ]
  },
  {
   "cell_type": "code",
   "execution_count": 9,
   "metadata": {},
   "outputs": [],
   "source": [
    "# Esta función encapsula lo que hemos hecho en el código anterior paso a paso.\n",
    "def modelo():\n",
    "    vgg=tf.keras.applications.vgg16.VGG16()\n",
    "    cnn=tf.keras.Sequential()\n",
    "    for capa in vgg.layers:\n",
    "        cnn.add(capa)\n",
    "    cnn.pop()\n",
    "    for layer in cnn.layers:\n",
    "        layer.trainable = False\n",
    "    cnn.add(tf.keras.layers.Dense(3,activation='softmax'))\n",
    "\n",
    "    return cnn"
   ]
  },
  {
   "cell_type": "code",
   "execution_count": 10,
   "metadata": {},
   "outputs": [],
   "source": [
    "# Se limpia todas las variables, estado, etc. de sesión que hemos abierto de keras\n",
    "tf.keras.backend.clear_session()"
   ]
  },
  {
   "cell_type": "code",
   "execution_count": 11,
   "metadata": {
    "tags": []
   },
   "outputs": [
    {
     "output_type": "stream",
     "name": "stdout",
     "text": "Found 999 images belonging to 3 classes.\nFound 2043 images belonging to 3 classes.\nWARNING:tensorflow:sample_weight modes were coerced from\n  ...\n    to  \n  ['...']\nWARNING:tensorflow:sample_weight modes were coerced from\n  ...\n    to  \n  ['...']\nTrain for 32 steps, validate for 32 steps\nEpoch 1/20\n32/32 [==============================] - 264s 8s/step - loss: 0.8149 - accuracy: 0.5756 - val_loss: 0.6778 - val_accuracy: 0.6660\nEpoch 2/20\n32/32 [==============================] - 296s 9s/step - loss: 0.6485 - accuracy: 0.7247 - val_loss: 0.5450 - val_accuracy: 0.7881\nEpoch 3/20\n32/32 [==============================] - 323s 10s/step - loss: 0.5639 - accuracy: 0.7778 - val_loss: 0.5101 - val_accuracy: 0.8018\nEpoch 4/20\n32/32 [==============================] - 317s 10s/step - loss: 0.5222 - accuracy: 0.7938 - val_loss: 0.4942 - val_accuracy: 0.8008\nEpoch 5/20\n32/32 [==============================] - 315s 10s/step - loss: 0.5067 - accuracy: 0.8088 - val_loss: 0.4539 - val_accuracy: 0.8213\nEpoch 6/20\n32/32 [==============================] - 300s 9s/step - loss: 0.4845 - accuracy: 0.8078 - val_loss: 0.4486 - val_accuracy: 0.8203\nEpoch 7/20\n32/32 [==============================] - 304s 9s/step - loss: 0.4602 - accuracy: 0.8218 - val_loss: 0.4218 - val_accuracy: 0.8359\nEpoch 8/20\n32/32 [==============================] - 347s 11s/step - loss: 0.4469 - accuracy: 0.8238 - val_loss: 0.5123 - val_accuracy: 0.7510\nEpoch 9/20\n32/32 [==============================] - 354s 11s/step - loss: 0.4284 - accuracy: 0.8368 - val_loss: 0.4220 - val_accuracy: 0.8340\nEpoch 10/20\n32/32 [==============================] - 356s 11s/step - loss: 0.4308 - accuracy: 0.8238 - val_loss: 0.3912 - val_accuracy: 0.8438\nEpoch 11/20\n32/32 [==============================] - 347s 11s/step - loss: 0.4184 - accuracy: 0.8278 - val_loss: 0.3816 - val_accuracy: 0.8564\nEpoch 12/20\n32/32 [==============================] - 343s 11s/step - loss: 0.3980 - accuracy: 0.8368 - val_loss: 0.3732 - val_accuracy: 0.8613\nEpoch 13/20\n32/32 [==============================] - 347s 11s/step - loss: 0.3890 - accuracy: 0.8478 - val_loss: 0.3814 - val_accuracy: 0.8447\nEpoch 14/20\n32/32 [==============================] - 362s 11s/step - loss: 0.3831 - accuracy: 0.8509 - val_loss: 0.3696 - val_accuracy: 0.8535\nEpoch 15/20\n32/32 [==============================] - 351s 11s/step - loss: 0.3923 - accuracy: 0.8378 - val_loss: 0.3582 - val_accuracy: 0.8623\nEpoch 16/20\n32/32 [==============================] - 343s 11s/step - loss: 0.3728 - accuracy: 0.8498 - val_loss: 0.3857 - val_accuracy: 0.8369\nEpoch 17/20\n32/32 [==============================] - 335s 10s/step - loss: 0.3727 - accuracy: 0.8418 - val_loss: 0.3569 - val_accuracy: 0.8682\nEpoch 18/20\n32/32 [==============================] - 339s 11s/step - loss: 0.3487 - accuracy: 0.8599 - val_loss: 0.3482 - val_accuracy: 0.8701\nEpoch 19/20\n32/32 [==============================] - 340s 11s/step - loss: 0.3684 - accuracy: 0.8298 - val_loss: 0.3433 - val_accuracy: 0.8633\nEpoch 20/20\n32/32 [==============================] - 327s 10s/step - loss: 0.3702 - accuracy: 0.8448 - val_loss: 0.3413 - val_accuracy: 0.8672\n"
    }
   ],
   "source": [
    "# Trozo de código del clasificador de imagenes pero aquí no se indicarán las capas convolucionales\n",
    "data_entrenamiento = \"K:/github/python_test/tensorflow/clasificador_imagenes/data/entrenamiento/\"\n",
    "data_validacion = \"K:/github/python_test/tensorflow/clasificador_imagenes/data/validacion/\"\n",
    "\n",
    "# Parametros de la red neuronal\n",
    "# Número de veces que se iteran los datos en el entrenamiento\n",
    "epocas = 20\n",
    "# Tamaño de las imagenes. Este es el tamaño que espera la red VGG16, en la documentación\n",
    "# oficial lo indica.\n",
    "longitud, altura = 224, 224\n",
    "# Numero de imagenes que se procesan en cada paso\n",
    "batch_size = 32\n",
    "# Al final de cada época se harán 300 pasos con los datos de validación\n",
    "# para ir viendo como de bien va aprendiendo\n",
    "validation_steps = 32\n",
    "# Número de convoluciones o de capas(profundidad) que tendra la iamagen\n",
    "# Primera convolucion serán 32\n",
    "filtrosConv1 = 32\n",
    "# Segunda convolucion serán 64\n",
    "filtrosConv2 = 64\n",
    "# Anchura y altura que va a procesar en cada convolucion.\n",
    "tamano_filtro1 = (3, 3)\n",
    "tamano_filtro2 = (2, 2)\n",
    "# Tamaño que se va usar en el maxpooling\n",
    "tamano_pool = (2, 2)\n",
    "# Número de clases que hay en el set de datos: gatos, perros y gorilas\n",
    "clases = 3\n",
    "# Es el learning rate. Es decir, cuanto de grandes van a ser los ajustes en la red\n",
    "# para ajustarse para buscar una solución óptima.\n",
    "lr = 0.0004\n",
    "\n",
    "# Como se van a transformar las imagenes para poderlas pasar al procesao de entrenamiento\n",
    "entrenamiento_datagen = tf.keras.preprocessing.image.ImageDataGenerator(\n",
    "    rescale=1. / 255,\n",
    "    shear_range=0.2,\n",
    "    zoom_range=0.2,\n",
    "    horizontal_flip=True)\n",
    "\n",
    "# Lo mismo pero para los datos de test\n",
    "test_datagen = tf.keras.preprocessing.image.ImageDataGenerator(\n",
    "    rescale=1. / 255)    \n",
    "\n",
    "# Proceso de lectura y transformación de los datos para los datos de entrenamiento\n",
    "entrenamiento_generador = entrenamiento_datagen.flow_from_directory(\n",
    "    data_entrenamiento,\n",
    "    target_size=(altura, longitud),\n",
    "    batch_size=batch_size,\n",
    "    class_mode='categorical')\n",
    "\n",
    "# Lo mismo para los datos de test\n",
    "validacion_generador = test_datagen.flow_from_directory(\n",
    "    data_validacion,\n",
    "    target_size=(altura, longitud),\n",
    "    batch_size=batch_size,\n",
    "    class_mode='categorical')    \n",
    "# Se llama a la función que devolverá el modelo adaptado basandonas en la red BGG16\n",
    "cnn = modelo()\n",
    "\n",
    "# Se indica como aprenderá el algoritmo\n",
    "cnn.compile(loss='categorical_crossentropy',\n",
    "            optimizer=tf.keras.optimizers.Adam(lr=lr),\n",
    "            metrics=['accuracy'])\n",
    "# Calculo de pasos por epoca\n",
    "pasos = math.ceil( ( len(entrenamiento_generador.filenames) / batch_size ) )    \n",
    "\n",
    "cnn.fit(\n",
    "    entrenamiento_generador,\n",
    "    steps_per_epoch=pasos,\n",
    "    epochs=epocas,\n",
    "    validation_data=validacion_generador,\n",
    "    validation_steps=validation_steps )\n",
    "\n",
    "# Directorio donde se guardará el modelo\n",
    "target_dir = 'K:/github/python_test/tensorflow/clasificador_imagenes/modelo'\n",
    "if not os.path.exists(target_dir):\n",
    " os.mkdir(target_dir)\n",
    "\n",
    "# Grabación del modelo\n",
    "cnn.save('K:/github/python_test/tensorflow/clasificador_imagenes/modelo/modelo.h5')\n",
    "\n",
    "# Grabación de los pesos de cada una de las capas\n",
    "cnn.save_weights('K:/github/python_test/tensorflow/clasificador_imagenes/modelo/pesos.h5')    "
   ]
  },
  {
   "cell_type": "code",
   "execution_count": null,
   "metadata": {},
   "outputs": [],
   "source": []
  }
 ]
}