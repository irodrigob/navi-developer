{
 "cells": [
  {
   "cell_type": "code",
   "execution_count": 2,
   "metadata": {},
   "outputs": [],
   "source": [
    "import sklearn \n",
    "# Set de datos\n",
    "from sklearn.datasets import load_iris\n",
    "# Separación de datos de entrenamiento y test\n",
    "from sklearn.model_selection import train_test_split\n",
    "# Clasificador de la red neuronal\n",
    "from sklearn.neural_network import MLPClassifier"
   ]
  },
  {
   "cell_type": "code",
   "execution_count": 3,
   "metadata": {},
   "outputs": [],
   "source": [
    "# Carga de datos\n",
    "iris = load_iris()"
   ]
  },
  {
   "cell_type": "code",
   "execution_count": 4,
   "metadata": {},
   "outputs": [],
   "source": [
    "# Datos con las características\n",
    "caract = iris.data"
   ]
  },
  {
   "cell_type": "code",
   "execution_count": 5,
   "metadata": {},
   "outputs": [],
   "source": [
    "# Datos con las etiquetas\n",
    "etiq = iris.target"
   ]
  },
  {
   "cell_type": "code",
   "execution_count": 10,
   "metadata": {},
   "outputs": [],
   "source": [
    "# Separación de los datos de test y entrenamiento\n",
    "X_ent, X_test, y_ent, y_test = train_test_split(caract, etiq)"
   ]
  },
  {
   "cell_type": "code",
   "execution_count": 16,
   "metadata": {},
   "outputs": [],
   "source": [
    "# Se asigna el model de la red neuronal\n",
    "# max_iter indica que las veces en que los nodos se van a intercambiar información \n",
    "# para aprender solo va ocurrir 10 veces.\n",
    "# hidden_layer_sizes indica que va una capa oculta que tendrá 10 nodos.\n",
    "red = MLPClassifier(max_iter=500, hidden_layer_sizes=(100))"
   ]
  },
  {
   "cell_type": "code",
   "execution_count": 17,
   "metadata": {},
   "outputs": [
    {
     "output_type": "execute_result",
     "data": {
      "text/plain": "MLPClassifier(hidden_layer_sizes=10, max_iter=500)"
     },
     "metadata": {},
     "execution_count": 17
    }
   ],
   "source": [
    "# Se entra al algoritmo\n",
    "red.fit(X_ent, y_ent)"
   ]
  },
  {
   "cell_type": "code",
   "execution_count": 18,
   "metadata": {},
   "outputs": [
    {
     "output_type": "execute_result",
     "data": {
      "text/plain": "0.9736842105263158"
     },
     "metadata": {},
     "execution_count": 18
    }
   ],
   "source": [
    "# Resultado del entrenamiento\n",
    "red.score(X_test,y_test)"
   ]
  },
  {
   "cell_type": "code",
   "execution_count": null,
   "metadata": {},
   "outputs": [],
   "source": []
  }
 ],
 "metadata": {
  "language_info": {
   "codemirror_mode": {
    "name": "ipython",
    "version": 3
   },
   "file_extension": ".py",
   "mimetype": "text/x-python",
   "name": "python",
   "nbconvert_exporter": "python",
   "pygments_lexer": "ipython3",
   "version": "3.7.7-final"
  },
  "orig_nbformat": 2,
  "kernelspec": {
   "name": "python_defaultSpec_1594912068343",
   "display_name": "Python 3.7.7 64-bit"
  }
 },
 "nbformat": 4,
 "nbformat_minor": 2
}