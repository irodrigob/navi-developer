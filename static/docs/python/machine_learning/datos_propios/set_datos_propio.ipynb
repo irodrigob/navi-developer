{
 "metadata": {
  "language_info": {
   "codemirror_mode": {
    "name": "ipython",
    "version": 3
   },
   "file_extension": ".py",
   "mimetype": "text/x-python",
   "name": "python",
   "nbconvert_exporter": "python",
   "pygments_lexer": "ipython3",
   "version": "3.7.7-final"
  },
  "orig_nbformat": 2,
  "kernelspec": {
   "name": "python_defaultSpec_1595436040326",
   "display_name": "Python 3.7.7 64-bit ('test': conda)"
  }
 },
 "nbformat": 4,
 "nbformat_minor": 2,
 "cells": [
  {
   "cell_type": "code",
   "execution_count": 2,
   "metadata": {},
   "outputs": [],
   "source": [
    "# Paquete para leer el fichero CSV\n",
    "import pandas as pd\n",
    "# Algoritmo de regresión línea\n",
    "from sklearn import linear_model\n",
    "# Separador de datos de test y entrenamiento\n",
    "from sklearn.model_selection import train_test_split"
   ]
  },
  {
   "cell_type": "code",
   "execution_count": 3,
   "metadata": {},
   "outputs": [],
   "source": [
    "# Algoritmo de regresión\n",
    "reg = linear_model.LogisticRegression()"
   ]
  },
  {
   "cell_type": "code",
   "execution_count": 4,
   "metadata": {},
   "outputs": [],
   "source": [
    "# Datos con el modelo\n",
    "archivo = \"set_datos_propio.csv\""
   ]
  },
  {
   "cell_type": "code",
   "execution_count": 24,
   "metadata": {},
   "outputs": [],
   "source": [
    "# Lectura del modelo. \n",
    "# Hay que indicarle el separador para que funcione.\n",
    "df = pd.read_csv(archivo,';')"
   ]
  },
  {
   "cell_type": "code",
   "execution_count": 25,
   "metadata": {
    "tags": []
   },
   "outputs": [
    {
     "output_type": "execute_result",
     "data": {
      "text/plain": "     a         b    c         d    f         g    h         i  etiqueta\n0  5.1  0.222222  3.5  0.625000  1.4  0.067797  0.2  0.041667         1\n1  4.9  0.166667  3.0  0.416667  1.4  0.067797  0.2  0.041667         2\n2  6.5  0.611111  3.0  0.416667  5.8  0.813559  2.2  0.875000         3",
      "text/html": "<div>\n<style scoped>\n    .dataframe tbody tr th:only-of-type {\n        vertical-align: middle;\n    }\n\n    .dataframe tbody tr th {\n        vertical-align: top;\n    }\n\n    .dataframe thead th {\n        text-align: right;\n    }\n</style>\n<table border=\"1\" class=\"dataframe\">\n  <thead>\n    <tr style=\"text-align: right;\">\n      <th></th>\n      <th>a</th>\n      <th>b</th>\n      <th>c</th>\n      <th>d</th>\n      <th>f</th>\n      <th>g</th>\n      <th>h</th>\n      <th>i</th>\n      <th>etiqueta</th>\n    </tr>\n  </thead>\n  <tbody>\n    <tr>\n      <th>0</th>\n      <td>5.1</td>\n      <td>0.222222</td>\n      <td>3.5</td>\n      <td>0.625000</td>\n      <td>1.4</td>\n      <td>0.067797</td>\n      <td>0.2</td>\n      <td>0.041667</td>\n      <td>1</td>\n    </tr>\n    <tr>\n      <th>1</th>\n      <td>4.9</td>\n      <td>0.166667</td>\n      <td>3.0</td>\n      <td>0.416667</td>\n      <td>1.4</td>\n      <td>0.067797</td>\n      <td>0.2</td>\n      <td>0.041667</td>\n      <td>2</td>\n    </tr>\n    <tr>\n      <th>2</th>\n      <td>6.5</td>\n      <td>0.611111</td>\n      <td>3.0</td>\n      <td>0.416667</td>\n      <td>5.8</td>\n      <td>0.813559</td>\n      <td>2.2</td>\n      <td>0.875000</td>\n      <td>3</td>\n    </tr>\n  </tbody>\n</table>\n</div>"
     },
     "metadata": {},
     "execution_count": 25
    }
   ],
   "source": [
    "# Visualización de los datos cargados\n",
    "df"
   ]
  },
  {
   "cell_type": "code",
   "execution_count": 26,
   "metadata": {
    "tags": []
   },
   "outputs": [],
   "source": [
    "# Arreglox contendrá todas las características. \n",
    "# El -1 es para que no se lea la última columna \n",
    "# que es la etiqueta\n",
    "arreglox = df[df.columns[:-1]].to_numpy()\n",
    "# Arregloy contendrá la ultima columna, que es la etiqueta\n",
    "arregloy = df[df.columns[-1]].to_numpy()"
   ]
  },
  {
   "cell_type": "code",
   "execution_count": 27,
   "metadata": {
    "tags": []
   },
   "outputs": [
    {
     "output_type": "stream",
     "name": "stdout",
     "text": "Características:  [[5.1      0.222222 3.5      0.625    1.4      0.067797 0.2      0.041667]\n [4.9      0.166667 3.       0.416667 1.4      0.067797 0.2      0.041667]\n [6.5      0.611111 3.       0.416667 5.8      0.813559 2.2      0.875   ]]\n"
    }
   ],
   "source": [
    "print(\"Características: \",arreglox)"
   ]
  },
  {
   "cell_type": "code",
   "execution_count": 28,
   "metadata": {
    "tags": []
   },
   "outputs": [
    {
     "output_type": "stream",
     "name": "stdout",
     "text": "Etiquetas:  [1 2 3]\n"
    }
   ],
   "source": [
    "print(\"Etiquetas: \", arregloy)"
   ]
  },
  {
   "cell_type": "code",
   "execution_count": 29,
   "metadata": {},
   "outputs": [],
   "source": [
    "# Separacion de datos de entrenamiento y test\n",
    "X_ent, X_test, y_ent, y_test = train_test_split(arreglox, arregloy)"
   ]
  },
  {
   "cell_type": "code",
   "execution_count": 30,
   "metadata": {},
   "outputs": [
    {
     "output_type": "execute_result",
     "data": {
      "text/plain": "LogisticRegression()"
     },
     "metadata": {},
     "execution_count": 30
    }
   ],
   "source": [
    "# Entrenamiento del algoritmo\n",
    "reg.fit(X_ent, y_ent)"
   ]
  },
  {
   "cell_type": "code",
   "execution_count": 31,
   "metadata": {},
   "outputs": [
    {
     "output_type": "execute_result",
     "data": {
      "text/plain": "0.0"
     },
     "metadata": {},
     "execution_count": 31
    }
   ],
   "source": [
    "# Resultado del entrenamiento\n",
    "reg.score(X_test, y_test)"
   ]
  },
  {
   "cell_type": "code",
   "execution_count": null,
   "metadata": {},
   "outputs": [],
   "source": []
  }
 ]
}