{
 "cells": [
  {
   "cell_type": "code",
   "execution_count": 1,
   "metadata": {},
   "outputs": [],
   "source": [
    "# Set de datos\n",
    "from sklearn.datasets import load_iris\n",
    "# Separador de datos de entrenamiento y test \n",
    "from sklearn.model_selection import train_test_split\n",
    "# Libreria de los estados de incertidumbre\n",
    "from sklearn import svm"
   ]
  },
  {
   "cell_type": "code",
   "execution_count": 2,
   "metadata": {},
   "outputs": [],
   "source": [
    "# Carga del modelo de datos\n",
    "iris=load_iris()"
   ]
  },
  {
   "cell_type": "code",
   "execution_count": 3,
   "metadata": {},
   "outputs": [],
   "source": [
    "X_ent, X_test, y_ent, y_test = train_test_split(iris.data, iris.target)"
   ]
  },
  {
   "cell_type": "code",
   "execution_count": 4,
   "metadata": {},
   "outputs": [],
   "source": [
    "# Se crea la variable con el algoritmo SVM\n",
    "algoritmo = svm.SVC(probability=True)"
   ]
  },
  {
   "cell_type": "code",
   "execution_count": 5,
   "metadata": {},
   "outputs": [
    {
     "output_type": "execute_result",
     "data": {
      "text/plain": "SVC(probability=True)"
     },
     "metadata": {},
     "execution_count": 5
    }
   ],
   "source": [
    "# Entrenamiento del algoritmo\n",
    "algoritmo.fit(X_ent, y_ent)"
   ]
  },
  {
   "cell_type": "code",
   "execution_count": 6,
   "metadata": {},
   "outputs": [
    {
     "output_type": "execute_result",
     "data": {
      "text/plain": "array([[-0.20269857,  2.23688486,  0.84169686],\n       [-0.21313057,  2.23268086,  0.88330921],\n       [ 2.22580348,  1.15214418, -0.24872264],\n       [ 2.23455235,  1.13095515, -0.25044655],\n       [ 2.23313006,  1.13211798, -0.24964792],\n       [ 2.2269661 ,  1.1259788 , -0.24423893],\n       [-0.23439994,  1.08865842,  2.22247787],\n       [-0.23387148,  1.18608119,  2.17366629],\n       [ 2.22684708,  1.14267576, -0.24739233],\n       [-0.21427536,  2.21884877,  0.96646885]])"
     },
     "metadata": {},
     "execution_count": 6
    }
   ],
   "source": [
    "algoritmo.decision_function_shape = \"ovr\"\n",
    "# decision_function nos va a devolver un numero que nos va a decir que \n",
    "# tan lejos esta el punto del hiperplano que clasifica.\n",
    "# Al algoritmo se le pasa los valores de testing y que solo nos traiga 10 ejemplos.\n",
    "algoritmo.decision_function(X_test)[:10]"
   ]
  },
  {
   "cell_type": "code",
   "execution_count": 8,
   "metadata": {},
   "outputs": [
    {
     "output_type": "execute_result",
     "data": {
      "text/plain": "array([[0.01701662, 0.97626968, 0.0067137 ],\n       [0.01130569, 0.97524721, 0.0134471 ],\n       [0.95145127, 0.03609592, 0.01245281],\n       [0.97121252, 0.01879533, 0.00999214],\n       [0.96865943, 0.02079702, 0.01054356],\n       [0.95443207, 0.03348436, 0.01208357],\n       [0.00997134, 0.04291861, 0.94711005],\n       [0.01111241, 0.46790436, 0.52098323],\n       [0.95385933, 0.03421938, 0.0119213 ],\n       [0.01653293, 0.95084668, 0.03262039]])"
     },
     "metadata": {},
     "execution_count": 8
    }
   ],
   "source": [
    "# Esta función nos va decir algo parecido al \"decision_function\" pero en el \n",
    "# ámbito de la probabilidad.\n",
    "# Se le pasa los datos de testing y se le indica que solo procese los 10 primeros\n",
    "algoritmo.predict_proba(X_test)[:10]"
   ]
  },
  {
   "cell_type": "code",
   "execution_count": 9,
   "metadata": {},
   "outputs": [
    {
     "output_type": "execute_result",
     "data": {
      "text/plain": "array([1, 1, 0, 0, 0, 0, 2, 2, 0, 1])"
     },
     "metadata": {},
     "execution_count": 9
    }
   ],
   "source": [
    "# Con al función o algoritmo predict nos va a decir como va a predecir el algoritmo de clasificación\n",
    "algoritmo.predict(X_test)[:10]"
   ]
  },
  {
   "cell_type": "code",
   "execution_count": null,
   "metadata": {},
   "outputs": [],
   "source": []
  }
 ],
 "metadata": {
  "language_info": {
   "codemirror_mode": {
    "name": "ipython",
    "version": 3
   },
   "file_extension": ".py",
   "mimetype": "text/x-python",
   "name": "python",
   "nbconvert_exporter": "python",
   "pygments_lexer": "ipython3",
   "version": "3.7.7-final"
  },
  "orig_nbformat": 2,
  "kernelspec": {
   "name": "python_defaultSpec_1594824494729",
   "display_name": "Python 3.7.7 64-bit ('test': conda)"
  }
 },
 "nbformat": 4,
 "nbformat_minor": 2
}