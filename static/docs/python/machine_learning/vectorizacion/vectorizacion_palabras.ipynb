{
 "cells": [
  {
   "cell_type": "code",
   "execution_count": 1,
   "metadata": {},
   "outputs": [],
   "source": [
    "import sklearn \n",
    "# Set de datos que viene con las características: Un cuerpo de texto y con etiquetas \n",
    "# la categoria a la cual pertenece. La categoria es de que tema se esta hablando.\n",
    "from sklearn.datasets import fetch_20newsgroups\n",
    "# Separación de datos de entrenamiento y test\n",
    "from sklearn.model_selection import train_test_split\n",
    "# Algoritmo que va permitir vectorizar todo el texto que tenemos.    \n",
    "from sklearn.feature_extraction.text import CountVectorizer\n",
    "# Algoritmo de regresión logísticas para la clasificaci´\n",
    "from sklearn.linear_model import LogisticRegression"
   ]
  },
  {
   "cell_type": "code",
   "execution_count": 2,
   "metadata": {},
   "outputs": [],
   "source": [
    "# Set de datos\n",
    "noticias = fetch_20newsgroups(subset=\"train\")"
   ]
  },
  {
   "cell_type": "code",
   "execution_count": 21,
   "metadata": {
    "tags": []
   },
   "outputs": [
    {
     "output_type": "stream",
     "name": "stdout",
     "text": "Cuerpo del mensaje:  From: lerxst@wam.umd.edu (where's my thing)\nSubject: WHAT car is this!?\nNntp-Posting-Host: rac3.wam.umd.edu\nOrganization: University of Maryland, College Park\nLines: 15\n\n I was wondering if anyone out there could enlighten me on this car I saw\nthe other day. It was a 2-door sports car, looked to be from the late 60s/\nearly 70s. It was called a Bricklin. The doors were really small. In addition,\nthe front bumper was separate from the rest of the body. This is \nall I know. If anyone can tellme a model name, engine specs, years\nof production, where this car is made, history, or whatever info you\nhave on this funky looking car, please e-mail.\n\nThanks,\n- IL\n   ---- brought to you by your neighborhood Lerxst ----\n\n\n\n\n\nClasificación:  7\n"
    }
   ],
   "source": [
    "# Podemos ver un ejemplo de datos que se va a procesar. Que se verá que es un corre electrónico\n",
    "print(\"Cuerpo del mensaje: \", noticias.data[0])\n",
    "# Si hacemo los mismo para ver a que clasificación pertenec. Aparecerá el valor 7, que es la clasificación a la que pertenece.\n",
    "print(\"Clasificación: \", noticias.target[0])"
   ]
  },
  {
   "cell_type": "code",
   "execution_count": 22,
   "metadata": {
    "tags": []
   },
   "outputs": [
    {
     "output_type": "stream",
     "name": "stdout",
     "text": "Número de bloques de texto que hay:  11314\n"
    }
   ],
   "source": [
    "# Cuantos bloques de texto hay en el modelo de datos\n",
    "print(\"Número de bloques de texto que hay: \", len(noticias.data))"
   ]
  },
  {
   "cell_type": "code",
   "execution_count": 23,
   "metadata": {
    "tags": []
   },
   "outputs": [
    {
     "output_type": "stream",
     "name": "stdout",
     "text": "Nombres de las clasificaciones: ['alt.atheism', 'comp.graphics', 'comp.os.ms-windows.misc', 'comp.sys.ibm.pc.hardware', 'comp.sys.mac.hardware', 'comp.windows.x', 'misc.forsale', 'rec.autos', 'rec.motorcycles', 'rec.sport.baseball', 'rec.sport.hockey', 'sci.crypt', 'sci.electronics', 'sci.med', 'sci.space', 'soc.religion.christian', 'talk.politics.guns', 'talk.politics.mideast', 'talk.politics.misc', 'talk.religion.misc']\n"
    }
   ],
   "source": [
    "# Nombre de las clasificaciones\n",
    "print(\"Nombres de las clasificaciones:\", noticias.target_names)"
   ]
  },
  {
   "cell_type": "code",
   "execution_count": 9,
   "metadata": {},
   "outputs": [],
   "source": [
    "# Variable para la vectorización\n",
    "vector = CountVectorizer()"
   ]
  },
  {
   "cell_type": "code",
   "execution_count": 11,
   "metadata": {},
   "outputs": [
    {
     "output_type": "execute_result",
     "data": {
      "text/plain": "CountVectorizer()"
     },
     "metadata": {},
     "execution_count": 11
    }
   ],
   "source": [
    "# Se le pasan los datos que tenemos en la variable vector.   \n",
    "vector.fit(noticias.data)"
   ]
  },
  {
   "cell_type": "code",
   "execution_count": 8,
   "metadata": {
    "tags": [
     "outputPrepend"
    ]
   },
   "outputs": [
    {
     "output_type": "stream",
     "name": "stdout",
     "text": "30922': 3841, '144427': 4361, '17399': 5624, 'disqualification': 47865, 'leopard': 75338, 'coe861': 40841, '6047': 16511, '93743': 21852, '2pts': 11057, '1pt': 7361, '4pts': 14619, 'espo': 52534, 'clamor': 40191, 'uncorrupted': 118527, 'locutions': 76585, 'stigmata': 110692, 'uucico': 119974, 'waller': 123125, 'rschulz': 103283, 'shad': 106494, '86c': 20572, '16bb4c522': 5386, '14422': 4351, '1qh4m5inn2pu': 7445, 'burrow': 35742, 'pests': 93237, 'deet': 45837, 'ankles': 28314, 'waistband': 123068, 'chig': 39359, 'cortisone': 42789, 'creme': 43359, 'benzocaine': 32815, 'studeman': 111175, 'khouzam': 72553, 'protman': 96524, 'workgrp': 125034, '4416': 13693, 'copie': 42559, 'fai': 54195, 'vocation': 121979, '_deliverance_': 23691, 'offerred': 89401, 'rsd21': 103285, 'statutorily': 110412, 'conevnient': 41816, 'rosary': 102953, '_massively_': 24058, 'canonically': 37660, 'confrontational': 41903, '_longer_': 24020, 'overdone': 90981, 'babysitting': 31396, 'untruthful': 119348, 'zellner': 129253, 'monumental': 83625, '114746': 3216, '3364': 11831, 'jott': 70612, '734995860': 18705, 'vegative': 121002, 'termnal': 114157, 'lzahas': 77558, 'lukas': 77261, 'zahas': 129024, 'lhep_ltd': 75593, 'leonidas': 75335, 'hepis': 62798, 'c00525': 36090, '013653rap115': 539, 'predicitons': 95562, 'forecasting': 56318, 'goguen': 59678, 'photometric': 93637, 'soma': 108790, 'l21': 74070, 'l24': 74072, 'odell': 89285, 'scn5': 105294, 'calar': 37357, 'airmasses': 26989, 'fainter': 54210, 'networkable': 86754, 'rttimme': 103373, 'timmer': 115180, 'winnetters': 124505, 'kuznetsov': 73869, 'kcbs': 72034, '5455': 15295, '73437': 18620, '3344': 11809, 'vkuznetsov': 121819, 'c5w5f8': 36983, '3lc': 12998, 'sillier': 107407, 't890449': 113062, 'patan': 92313, 'vpic6': 122174, 'tseng4000': 116765, 'chronicly': 39649, 'peds': 92753, 'ajv': 27090, 'mrynders': 84400, 'rynders': 103758, '143224': 4296, '23273': 9305, 'meyerj': 81427, '073813': 1330, '5246': 15123, 'pyotr': 97280, 'hampe': 61778, 'reaganbushlegacy': 99785, 'ogadan': 89473, 'rajan': 99153, 'ranga': 99260, '1pli7ginni6b': 7199, '80c188': 20111, 'maxcount': 79973, 'garamendi': 58132, 'mvuzr': 85174, 'roadracing': 102614, 'flaking': 55712, 'jmg': 70360, 'dxcoms': 49674, '183419': 5944, 'klony': 73067, 'virden': 121638, 'anonuucp': 28411, 'vt340': 122299, 'decterm': 45775, 'colxterm': 41104, '071740': 1304, '17850': 5757, 'v16': 120247, 'corniche': 42691, 'liechenstein': 75810, 'kukis': 73786, '7035': 18244, '7036': 18245, 'wasington': 123309, 'ellerbee': 51160, 'nickelodeon': 87195, 'janeiro': 69488, 'departs': 46366, 'parise': 92075, 'ruden': 103423, '7589': 19008, '090735': 1508, '17025': 5478, 'lauches': 74733, 'ongh': 89909, 'jasonlim': 69556, 'pettits': 93310, 'envious': 51971, 'glamour': 59315, '155b': 4891, 'mewin': 81416, 'latexhlp': 74707, 'vms2hlp': 121929, 'phimosis': 93562, 'offfice': 89406, 'eaaasily': 50063, '162016': 5128, '5923': 15676, 'absoultly': 25469, 'menuitem': 81146, 'atleats': 30150, 'bogosity': 34210, '3778': 12361, '10khz': 2887, 'intermodulation': 67865, 'transeivers': 116177, '070905': 1294, '26124': 9894, 'cdh': 38472, '3901': 12497, 'stds': 110445, 'dmhc': 48265, 'positivity': 95102, 'visitations': 121704, 'syphilis': 112635, 'notifiable': 87984, '52nd': 15164, 'penicillinase': 92872, 'gonorrhoeae': 59766, 'rolfs': 102842, 'sharrar': 106643, 'harger': 62013, 'diverging': 48039, '50212': 14931, 'brfss': 34966, 'subgrouped': 111316, 'nonbelted': 87732, 'partyka': 92213, 'suttles': 112179, 'wagenaar': 123026, 'accid': 25620, 'prev': 95838, 'barnwell': 31881, 'lavange': 74795, 'stutts': 111238, 'rodgman': 102763, 'prevalences': 95844, 'poisson': 94750, 'aortic': 28657, 'stenosis': 110548, 'dysplasia': 49753, 'microcephalus': 81844, 'ureter': 119649, 'scoliosis': 105306, 'lordosis': 76776, 'variability': 120711, 'encephalocele': 51537, 'spina': 109430, 'bifida': 33251, 'trisomy': 116564, 'ascertainment': 29658, 'jensvold': 69850, 'edmonds': 50503, 'mcclearn': 80272, 'epidemiologists': 52095, 'nonsystematic': 87804, 'h1n1': 61230, 'predominance': 95585, 'predominated': 95589, 'h3n2': 61281, 'subtype': 111480, 'waned': 123179, 'amantadine': 27741, 'louisa': 76849, 'rickettsial': 101922, 'tipple': 115230, 'gaventa': 58294, 'folger': 56183, 'connaught': 41977, 'mirieux': 82343, 'swiftwater': 112380, 'kendal': 72204, 'schonberger': 105180, 'embryo': 51333, 'gamete': 58079, 'intrafallopian': 68018, 'cryopreservation': 43685, 'micromanipulation': 81885, 'tubal': 116883, 'mainstays': 79006, 'infertility': 67092, 'endocrinology': 51644, 'embryos': 51335, 'biopsying': 33456, 'preimplantation': 95645, 'biopsied': 33453, 'hybridization': 64884, 'fibrosis': 55183, 'hemophilia': 62740, 'circumvents': 39958, 'racowsky': 98987, 'obstetrics': 89099, 'gynecology': 61123, 'unfertilized': 118770, 'incubator': 66824, 'andrology': 28197, 'follicular': 56193, 'gonadotropins': 59753, 'perganol': 93012, 'metrodin': 81391, 'gnrh': 59572, 'factrel': 54149, 'lutrepulse': 77368, 'analogues': 28065, 'depo': 46399, 'sedated': 105801, 'pathologies': 92353, 'ovulatory': 91168, 'disconcertingly': 47584, 'predictors': 95573, 'exogenous': 53346, 'declines': 45696, 'fertilize': 54960, 'chromosomally': 39641, 'laparoscope': 74587, 'vivo': 121766, 'idiopathic': 65727, 'fertilizability': 54958, 'supernumerary': 111914, 'cryopreserving': 43686, 'embrys': 51336, 'unaccepting': 118362, 'perccent': 92946, 'motile': 83870, 'zonal': 129686, 'szi': 112744, 'clochmul': 40476, 'nrambr': 88143, 'lochmuller': 76561, 'wheter': 124043, 'becaue': 32421, 'atacks': 30058, 'karesh': 71804, 'transdillidians': 116173, '080719': 1385, '4773': 13973, 'elude': 51239, '15bit': 4976, '4200416': 13524, 'multiplan': 84820, 'icus': 65610, '513bct': 15042, 'unixpc': 119001, '0669': 1247, '51m': 15084, 'cnews': 40684, 'nethack': 86715, 'hdb': 62376, 'wd2010': 123528, 'alertness': 27319, 'hypothermia': 64974, 'detrimemtal': 46770, 'shivering': 106899, '8kb': 21092, 's_ledoux': 104171, 'ledoux': 75116, 'srpings': 109921, 'icondoit': 65585, 'mswindows': 84535, 'xtniconifypixmap': 127227, 'pixure': 94082, 'fundie': 57289, 'sydos': 112502, '44i': 13749, 'dispatcher': 47799, 'c5l5c5': 36732, 'gtm': 60721, 'c5j5mi': 36625, '153153': 4764, '49197': 14129, 'insturment': 67635, 'contenintal': 42268, 'nvm': 88481, 'volitile': 122036, '032620': 837, '75908': 19010, 'tc1024': 113642, '1r75bginnob9': 7951, 'expandibilty': 53366, 'vtr': 122318, 'evergreen': 52939, 'bcarh1ee': 32209, '93apr16133900': 21906, '40pnt': 13438, '10pnt': 2906, '9250': 21687, '93097': 21797, '094815mece7187': 1553, 'mece7187': 80741, 'shinny': 106852, 'disruptions': 47886, 'goalmouth': 59602, 'defencemen': 45876, '131041': 3862, '8660': 20557, 'c5h74z': 36558, '9v4': 23005, 'meltsner': 81017, 'unisual': 118935, 'throbbing': 114866, 'bachache': 31406, 'dorland': 48650, 'waiter': 123075, 'a54si': 24826, '93apr20190924': 21937, 'mitra': 82569, 'visnu': 121712, 'slay': 108023, 'reluct': 100750, 'antly': 28564, 'rediscovered': 100210, 'pantheon': 91905, 'pews': 93325, 'impaling': 66394, 'cannibalistic': 37645, 'deities': 46038, 'mithraists': 82563, 'cybele': 44401, 'ocracy': 89210, '602cv3dtx01': 16502, 'bws20': 35936, 'passersby': 92259, 'nodded': 87666, 'brownian': 35197, '310393180711': 11552, 'm249': 77762, 'lilac': 75925, '073926': 1332, '9874': 22389, 'pko': 94158, '18734': 6054, 'fictions_': 55190, 'randel': 99241, 'helms': 62693, 'familial': 54320, 'clincher': 40408, 'spritually': 109675, 'calloway': 37448, 'hplvec': 64301, 'lvld': 77407, 'loveland': 76880, '125537': 3653, 'gard': 58146, 'crudded': 43616, 'kewe': 72322, 'bskewe': 35326, 'bso': 35332, 'cornelis': 42681, 'mathemagic': 79816, 'puntbinnenpolygoon': 97009, 'omschrijving': 89853, 'bepaalt': 32822, 'aangeboden': 25193, 'vector2d': 120966, 'binnen': 33408, 'polygoon': 94866, 'wijzigingen': 124293, 'clibstatus': 40376, 'aantal_snijpunten': 25198, 'geefpolygoonlengte': 58501, 'geefpolygoonrandpunt': 58502, 'interpoleerlineair': 67910, 'clibsucces': 40377, 'kopieervector2d': 73391, 'cliberbuiten': 40375, 'krommenoord': 73640, '4826394': 14040, 'existentialist': 53317, 'disasterously': 47516, 'bhogaisvarya': 33159, 'prasaktanam': 95434, 'tayapahrta': 113601, 'cetasam': 38744, 'vyavasayatmika': 122502, 'buddhih': 35442, 'samadhau': 104486, 'vidhiyate': 121477, 'bhoga': 33158, 'aisvarya': 27018, 'opulence': 90207, 'taya': 113600, 'apahrta': 28682, 'vyavasaya': 122501, 'atmika': 30156, 'resolute': 101295, 'samadhi': 104487, 'nirukti': 87369, 'samyag': 104535, 'adhiyate': 26129, 'sminn': 108327, 'tattva': 113562, 'yathatmyam': 127928, 'unboxing': 118438, '117mb': 3336, 'jee': 69768, 'zus': 129962, 'bissel': 33523, 'evangelize': 52884, 'gregb': 60314, 'tosgcla': 115801, 'controversy_733694426': 42398, 'controversy_730956589': 42397, 'blueprints': 33952, 'scooped': 105310, '19b2': 6574, 'reentered': 100287, 'jettisoned': 69921, 'salisbury': 104434, 'chipman': 39419, 'naumann': 86199, '5235': 15118, 'transuranic': 116292, '22800': 9159, 'jackman': 69383, 'prather': 95437, 'giss': 59184, 'douglass': 48731, 'sze': 112740, 'halocarbons': 61709, 'stratosphere_': 110962, '18583': 6024, '_chemical': 23624, 'environment_': 51980, 'hinshaw': 63291, 'scuba': 105509, 'divers': 48040, 'eardrum': 50099, 'eustachian': 52829, 'chimpanzee': 39392, 'vacuum_': 120534, 'koestler': 73283, '_experimental': 23772, 'bancroft': 31717, 'kerwin': 72286, 'humanoid': 64632, '35a72': 12167, 'facelike': 54096, '70a13': 18279, 'hoagland': 63597, 'dipeitro': 47394, 'molenaar': 83420, 'pozos': 95305, 'formations': 56425, 'carlotto': 37891, 'al976': 27198, 'kadell': 71634, 'veiws': 121045, 'heterosex': 62933, 'uals': 117721, 'garaunteed': 58134, 'bassoonists': 32028, 'johnsw': 70514, 'givi': 59203, 'brunnhilde': 35246, 'bimc': 33373, 'kotv': 73462, 'kotrr': 73457, '00314': 249, '580924': 15604, 'kotd': 73446, 'yamabeemer': 127859, 'fj100gs1200pdr650': 55621, '095119': 1557, '5367': 15216, '1275gt': 3705, 'prague': 95411, 'isaacs': 68545, 'racelist': 98955, 'motojournalism': 83893, 'motosports': 83921, 'metoo': 81384, 'majordomo': 79044, '5654': 15485, '4876': 14078, 'commandline': 41198, 'a7e737a8c3018eb7': 24888, '173853': 5619, '14752': 4511, 'c5jhbp': 36652, '_didn': 23700, 'benfits': 32771, 'sunbum': 111742, 'dbryant': 45368, 'leconte': 75098, 'c4m': 36250, 'cuug': 44195, 'winsorr': 124527, 'winsor': 124526, '4670': 13889, 'apace': 28676, '3536': 12115, 'vfq32b2w165w': 121344, 'c5sr8h': 36916, '014305': 551, '28536': 10244, 'schinagl': 105109, 'fstgds15': 57099, 'encrytion': 51595, 'cobarruvias': 40758, 'asd2': 29675, '8597': 20501, 'clintonettes': 40423, 'snick': 108482, 'mustered': 85042, 'unfortuantely': 118794, 'roooster': 102921, 'a7f733defc01f042': 24911, 'reapir': 99848, 'kc10': 72016, 'wolfpack': 124895, 'simultaion': 107521, 'stalkers': 110194, 'moonmist': 83646, 'ballyhoo': 31691, 'infocom': 67158, 'tolkien': 115568, 'plessy': 94395, 'disengenuous': 47674, '72mb': 18503, 'at72': 30054, '1qsmhtinnt5l': 7727, '1pnigoinn5in': 7212, 'chsu': 39667, 'climates': 40397, 'beefed': 32479, 'wuz': 125456, 'drivin': 49063, 'coronary': 42704, 'fz01': 57566, 'pr11': 95378, 'ar007': 29094, 'wlyle': 124751, 'sju': 107760, 'dilworth': 47305, 'paxson': 92457, 'kalish': 71692, '19109': 6185, 'keil': 72151, '93apr14173040': 21880, '195220': 6358, '21701': 8868, '040231': 925, '17561': 5690, 'c3p0': 36214, 'pbartok': 92505, 'bartok': 31933, 'suncd': 111747, 'apsi': 29023, 'cdblksize': 38463, '040946': 938, '26896': 9979, '1080i': 2817, 'fink4': 55453, 'cf427620i': 38764, 'liuvax': 76230, 'harddisks': 61971, 'applicability': 28877, 'precompensation': 95527, 'lzone': 77566, 'autopark': 30562, 'jp12': 70660, 'pcomp': 92604, 'cp2034': 43073, 'cp2064': 43074, 'cp2084': 43075, 'cp3184': 43089, 'cp3104': 43087, 'cp3111': 43088, 'cp3204': 43090, 'cp30064': 43078, 'cp30084': 43079, 'cp30104': 43082, 'cp30084e': 43080, 'cp30174e': 43083, 'cp30204': 43084, 'cp3304': 43092, 'cp3364': 43093, 'cp3504': 43095, 'cp3554': 43096, 'm261xt': 77780, 'm2614et': 77779, 'm2613et': 77778, 'm2612et': 77777, '1334': 3942, 'trk': 116588, '3490': 11974, '135mb': 4027, '90mb': 21543, 'cnh': 40688, 'irq14': 68459, 'm2622t': 77781, 'm2623t': 77782, 'm2624t': 77783, 'kalok': 71702, 'kl3100': 72998, 'kl3120': 72999, 'righthand': 101999, '213a': 8795, '340a': 11905, 'lxt437a': 77459, 'lxt535a': 77460, 'spindle': 109433, '7060a': 18260, 'j14': 69062, 'j13': 69061, '7120a': 18338, 'j11': 69059, 'j16': 69064, 'j17': 69065, 'j20': 69110, 'j19': 69068, 'spt': 109691, 'j25': 69115, '7245a': 18466, 'defineable': 45924, 'wpc': 125152, '2105a': 8666, '2112a': 8697, '5mbytes': 16107, '8040': 20057, '5hd': 15962, '17sec': 5802, '977cyl': 22322, 'cyc': 44419, 'rwc': 103660, 'enc': 51528, '8225at': 20243, '8051at': 20070, 'd3735': 44595, 'd3755': 44597, 'd3741': 44596, 'wpcom': 125154, 'jp13': 70661, '40at': 13413, '120at': 3458, '170at': 5509, '210at': 8680, '425at': 13563, '52at': 15154, '105at': 2758, '80a': 20107, 'pdiag': 92643, 'dasp': 45135, 'els42at': 51212, 'els85at': 51213, 'els127at': 51209, 'els170at': 51210, '3008a': 11405, '3009a': 11406, 'ro3058a': 102589, 'mbyets': 80173, 'ro3088a': 102591, 'ro3095a': 102593, 'ro3128a': 102594, 'ro3135a': 102596, 'ro3059a': 102590, 'ro3089a': 102592, 'ro3129a': 102595, 'ro3139a': 102597, 'ro3209a': 102598, 'ro3259a': 102599, '3000a': 11394, 'lk1': 76322, 'lk2': 76323, 'lk5': 76325, 'fallows': 54290, 'esdiand': 52482, '1seagate': 8034, 'st1144a': 110056, 'st138a': 110064, 'st274a': 110079, 'st1057a': 110048, 'st1156a': 110057, 'st1400a': 110066, 'st280a': 110080, 'st351ax': 110090, 'st1090a': 110049, 'st1162a': 110058, 'st1401a': 110067, 'st3051a': 110082, 'st9051a': 110106, 'st1102a': 110052, 'st1186a': 110059, 'st1480a': 110069, 'st3096a': 110083, 'st9077a': 110107, 'st1111a': 110053, 'st1201a': 110061, 'st157a': 110071, 'st3120a': 110084, 'st9096a': 110108, 'st1126a': 110054, 'st1239a': 110062, 'st2274a': 110076, 'st9144a': 110109, 'st1133a': 110055, 'st125a': 110063, 'st2383a': 110077, 'st325ax': 110086, '3105': 11553, 'precmp': 95523, '105021440': 2729, '104778752': 2719, '104890368': 2723, 'rdy': 99720, 'wdac140': 123539, 'wdac280': 123544, 'wdac2120': 123540, 'wdac2170': 123541, 'wdac2200': 123542, 'wdac2340': 123543, 'cp342': 43094, 'cp3022': 43085, 'cyln': 44456, 'braucht': 34835, '9867': 22386, '2618': 9900, '3218': 11653, 'pinboard': 93912, 'b38': 31079, '9487': 22081, 'wduq': 123569, '56720008': 15500, 'c5jv9a': 36683, 'f1b': 53795, 'decompiler': 45711, '052552': 1089, '18045': 5827, 'centrifugal': 38659, 'bumblepuppy': 35602, 'lancelot': 74484, '160493095418': 5045, '1qugvu': 7750, 'ai8': 26885, 'spooled': 109563, 'zippppppppppp': 129440, 'cirlce': 39965, 'upshift': 119546, 'rlb534': 102310, 'nwscc': 88510, 'sea06': 105644, 'whiles': 124062, 'hiles': 63217, 'x1568': 125682, 'unwound': 119388, 'alighment': 27402, 'haaheim': 61489, 'c52e58': 36432, 'l8g': 74233, 'programmatic': 96209, '951450': 22133, '131615': 3879, '8661': 20558, 'mgengelb': 81594, 'engelbertink': 51718, 'rolex': 102837, 'imitations': 66290, 'geen': 58513, 'fantastische': 54367, 'advertentie': 26325, 'nep': 86643, 'rolexen': 102838, 'maar': 78572, 'evenzo': 52930, 'duidelijke': 49387, 'mededeling': 80793, 'hieromtrent': 63150, 'aangezien': 25195, 'alleen': 27448, 'aanbieden': 25191, 'horloges': 64014, 'onder': 89881, 'vermelding': 121199, 'echte': 50306, 'merknaam': 81213, 'geheel': 58526, 'bericht': 32860, 'duidelijk': 49386, 'adverteren': 26326, 'imitatie': 66287, 'enig': 51771, 'persoon': 93183, 'hierin': 63148, 'geiinteresseerd': 58537, 'helpen': 62699, 'fakefully': 54253, 'borst': 34486, 'utis116': 119910, 'coolpro': 42516, 'melpar': 81008, 'esys': 52624, '22046': 8945, '5000x2659': 14901, 'chineham': 39403, 'weet': 123681, 'aa19241': 25116, 'aa08122': 25088, 'motgate': 83852, 'aa13841': 25099, 'chimpc01': 39394, 'aa05426': 25081, 'mcdmail': 80306, 'ir04': 68373, 'aa07883': 25086, '26jan93': 9997, 'poss': 95111, 'beechgreen': 32477, 'hants': 61908, '790154': 19355, '817481': 20189, '335105': 11819, 'w10075': 122578, 'howitzer': 64202, 'incher': 66696, 'assailed': 29818, 'buffoons': 35491, 'checkbooks': 39172, 'c51cjp': 36396, '1lf8': 7014, 'canst': 37673, '14545': 4412, 'woah': 124860, 'bobmon': 34148, 'montante': 83587, '162131': 5134, '4673': 13891, 'dyskaryotic': 49749, 'rcasteto': 99565, 'watsol': 123380, 'castelletto': 38059, 'july26': 71000, 'aug6': 30364, 'aug30': 30363, 'sept10': 106145, 'ronc': 102896, 'astelletto': 29941, '2546': 9773, '1pqep5inn88e': 7259, '1poj23inn9k': 7218, 'atoz': 30177, 'streetmap': 111005, 'firefighter': 55496, '114041': 3186, '172cm': 5580, '68kgs': 17253, 'bodycheckings': 34183, 'harlamov': 62026, '177cm': 5745, '8cm': 20903, '19930301143317': 6476, 'ffrf': 55079, 'postpaid': 95177, '91605': 21605, 'figmo': 55260, 'aap': 25203, '910309': 21568, 'immoralities': 66340, '140195': 4163, '78714': 19314, '0195': 613, '7215': 18443, '78752': 19322, '2973': 10475, '9525': 22142, 'prometheus': 96288, 'haught': 62199, '14215': 4252, 'aah': 25177, 'rationalist': 99388, 'islington': 68636, '8ew': 20985, 'n19': 85610, 'wc1r': 123470, '4rl': 14672, '7723': 19194, 'freethinker': 56831, 'ibka': 65478, 'internationaler': 67874, 'konfessionslosen': 73353, 'atheisten': 30103, 'materialien': 79794, 'informationen': 67188, 'politisches': 94817, 'konfessionslosesn': 73354, 'hrsg': 64436, 'vertrieb': 121259, 'ibdk': 65468, 'ucherdienst': 117820, '211216': 8694, 'disch': 47549, 'canticle': 37680, 'leibowitz': 75239, 'pangborn': 91876, 'approachable': 28953, 'fernwright': 54939, 'valis': 120595, 'dismissively': 47757, 'handmaid': 61853, 'vicars': 121419, 'enlighting': 51797, 'adulteries': 26286, 'gottes': 59874, 'diener': 47164, 'dunkle': 49451, 'seite': 105902, 'papsttums': 91951, 'droemer': 49072, 'knaur': 73146, 'tendentious': 114055, 'contempory': 42260, 'platinga': 94300, '87722': 20628, 'unsupportable': 119293, 'subtitled': 111465, 'unbelief': 118421, '8018': 20026, '2494': 9588, '29887': 10493, 'imputation': 66569, 'posthumous': 95161, 'sidgwick': 107263, 'restatements': 101385, 'plantinga': 94272, 'lelie': 75261, 'axiarchism': 30864, 'formalistic': 56412, 'refreshingly': 100380, '64079': 16809, 'levene': 75438, 'heifer': 62593, '175856': 5697, 'jetskis': 69913, 'handlbars': 61841, 'ashe': 29704, 'milgram': 82093, 'rolandi': 102834, 'hsscls': 64489, '204033': 8470, '126645': 3687, '1raejd': 7971, 'bf4': 33027, 'abutaha': 25506, 'windshear': 124444, 'puffs': 96903, 'enviroleague': 51973, 'critz': 43480, '71611': 18363, 'syllabi': 112512, '61651': 16622, '0418': 951, '3225200': 11661, 'simpilistic': 107480, '145635': 4420, '16857': 5334, 'xtstringdefines': 127302, 'dxtstringdefines': 49700, 'cflags': 38790, '93apr20192345': 21938, 'jmiller': 70367, '6126': 16598, 'buzy': 35865, 'buzyna': 35866, 'windshild': 124447, 'internetwork': 67884, '55428': 15373, '4888': 14086, '15apr199321275870': 4974, '1024x768x16bpp': 2641, '3336': 11801, 'elenay_creations': 51080, 'cyber': 44402, 'sanctum': 104553, '1024x1024x8': 2632, 'elenay': 51079, 'looper': 76741, '_itself_': 23933, 'icarus': 65521, 'glues': 59464, 'furled': 57328, 'rodders': 102754, 'recyclers': 100158, '735307970': 18770, 'hanlon': 61890, 'outmatches': 90846, 'somes': 108816, 'djgp': 48126, 'appleusa': 28869, 'c650s': 37038, 'c610s': 37026, 'c23reg': 36159, 'koptsw21': 73400, '233443': 9335, '22590': 9117, 'exulox': 53651, 'ohlsson': 89520, 'tdt': 113726, '173951': 5623, '20173': 8389, '180gr': 5846, 'bigelos': 33261, 'hobo': 63627, 'gigolo': 59083, '1po9ovinnqe4': 7216, 'overture': 91125, 'fx286': 57476, 'gt5735a': 60683, 'devaney': 46804, 'gratis': 60200, 'pkeenan': 94134, 'ccmb': 38408, 'chippewa': 39423, '085717': 1455, 'alesis': 27322, 'kneecaps': 73154, 'referals': 100307, 'ofthe': 89461, 'sured': 112033, 'intracranial': 68014, 'paroxysmal': 92112, 'hemicrania': 62728, 'millie': 82137, 'aneurysm': 28223, 'ebodin': 50226, 'bodin': 34175, 'jh2sc281xpm100187': 70020, '2101240': 8653, 'willow': 124370}\n"
    }
   ],
   "source": [
    "# Se visualizan los tokens generados de los datos pasados.print\n",
    "# Un token = una palabra única en todo el set de datos.\n",
    "print(\"Tokens generados: \", vector.vocabulary_)"
   ]
  },
  {
   "cell_type": "code",
   "execution_count": 12,
   "metadata": {},
   "outputs": [],
   "source": [
    "# Se crea una variable con la bolsa de palabras. Esta bolsa es el vector donde se cuenta el número de repeticiones que tienen cada una de las palabras\n",
    "bolsa = vector.transform(noticias.data)"
   ]
  },
  {
   "cell_type": "code",
   "execution_count": 24,
   "metadata": {
    "tags": []
   },
   "outputs": [
    {
     "output_type": "stream",
     "name": "stdout",
     "text": "Filas de datos x columnas:  (11314, 130107)\n"
    }
   ],
   "source": [
    "# Resultado de la matriz.\n",
    "# Devuelve un valor de 11314, 130105, \n",
    "# 11314 es el número de datos, o filas, que hay en el set de datos. \n",
    "# Y por cada fila tiene 130107 elementos, que es el número de palabras\n",
    "# distintas que hay en el modelo.\n",
    "print(\"Filas de datos x columnas: \", bolsa.shape)"
   ]
  },
  {
   "cell_type": "code",
   "execution_count": 14,
   "metadata": {},
   "outputs": [],
   "source": [
    "# Ahora se crea la variable que contiene las clasificaciones\n",
    "bolsay = noticias.target"
   ]
  },
  {
   "cell_type": "code",
   "execution_count": 15,
   "metadata": {},
   "outputs": [],
   "source": [
    "# Se separán los datos para entrenamiento y test.\n",
    "X_ent, X_test, y_ent, y_test = train_test_split(bolsa, bolsay)"
   ]
  },
  {
   "cell_type": "code",
   "execution_count": 16,
   "metadata": {},
   "outputs": [],
   "source": [
    "# Algoritmo de regresion\n",
    "lr = LogisticRegression()"
   ]
  },
  {
   "cell_type": "code",
   "execution_count": 25,
   "metadata": {},
   "outputs": [
    {
     "output_type": "execute_result",
     "data": {
      "text/plain": "LogisticRegression()"
     },
     "metadata": {},
     "execution_count": 25
    }
   ],
   "source": [
    "# Se le pasan los datos para el entrenamiento\n",
    "lr.fit(X_ent, y_ent)"
   ]
  },
  {
   "cell_type": "code",
   "execution_count": 26,
   "metadata": {
    "tags": []
   },
   "outputs": [
    {
     "output_type": "stream",
     "name": "stdout",
     "text": "Resultado del entrenamiento: 0.8727465535524921\n"
    }
   ],
   "source": [
    "# El resultado del entramiento\n",
    "print(\"Resultado del entrenamiento:\", lr.score(X_test, y_test))"
   ]
  },
  {
   "cell_type": "code",
   "execution_count": null,
   "metadata": {},
   "outputs": [],
   "source": []
  }
 ],
 "metadata": {
  "language_info": {
   "codemirror_mode": {
    "name": "ipython",
    "version": 3
   },
   "file_extension": ".py",
   "mimetype": "text/x-python",
   "name": "python",
   "nbconvert_exporter": "python",
   "pygments_lexer": "ipython3",
   "version": "3.7.7-final"
  },
  "orig_nbformat": 2,
  "kernelspec": {
   "name": "python_defaultSpec_1595007967058",
   "display_name": "Python 3.7.7 64-bit ('test': conda)"
  }
 },
 "nbformat": 4,
 "nbformat_minor": 2
}